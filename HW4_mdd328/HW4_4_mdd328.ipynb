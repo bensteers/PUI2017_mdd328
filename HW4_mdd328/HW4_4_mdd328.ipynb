{
 "cells": [
  {
   "cell_type": "markdown",
   "metadata": {},
   "source": [
    "## Skeleton of Assignment 4:\n",
    "\n",
    "    test if the distribution of \n",
    "\n",
    "    1) trip duration of bikers that ride during the day vs night\n",
    "\n",
    "    2) age of bikers for trips originating in Manhattan and in Brooklyn\n",
    "\n",
    "    are different. Use 3 tests: KS, Pearson's, Spearman's. \n",
    "\n",
    "    Use the scipy.stats functions scipy.stats.ks_2samp, scipy.stats.pearsonr, scipy.stats.spearmanr. \n",
    "\n",
    "    For the KS do the test with the entire dataset and with a subset 200 times smaller\n",
    "\n",
    "    Choose a single significant threshold for the whole exercise. \n",
    "    \n",
    "    For each test phrase the Null Hypothesis in words.\n",
    "\n",
    "    Describe the return of the scipy function you use in each case.\n",
    "\n",
    "    State the result in terms of rejection of the Null."
   ]
  },
  {
   "cell_type": "code",
   "execution_count": 8,
   "metadata": {
    "collapsed": false
   },
   "outputs": [
    {
     "name": "stdout",
     "output_type": "stream",
     "text": [
      "Populating the interactive namespace from numpy and matplotlib\n"
     ]
    }
   ],
   "source": [
    "import pylab as pl\n",
    "import pandas as pd\n",
    "import numpy as np\n",
    "#imports downloader\n",
    "#from getCitiBikeCSV import getCitiBikeCSV\n",
    "%pylab inline\n",
    "import os\n",
    "import json\n",
    "import scipy.stats"
   ]
  },
  {
   "cell_type": "code",
   "execution_count": 10,
   "metadata": {
    "collapsed": false
   },
   "outputs": [],
   "source": [
    "##Function to download and unpack Citibike data.\n",
    "##Moves the data to the directory pointed to by $PUIDATA\n",
    "\n",
    "import os\n",
    "import sys\n",
    "\n",
    "#check if the env variable PUIDATA exists\n",
    "if os.getenv(\"PUIDATA\") is None:\n",
    "    print (\"must set PUIDATA env variable\")\n",
    "    sys.exit()\n",
    "\n",
    "def getCitiBikeCSV(datestring):\n",
    "    '''Downloads citibike data and unzips it. If the data is downloaded by not unzippeds it zips it. Moves the data to $PUIDATA\n",
    "    Arguments:\n",
    "        date string as yyyymm\n",
    "    '''\n",
    "    print (\"Downloading\", datestring)\n",
    "    ### First I will heck that it is not already there\n",
    "    if not os.path.isfile(os.getenv(\"PUIDATA\") + \"/\" + datestring + \"-citibike-tripdata.csv\"):\n",
    "        if os.path.isfile(datestring + \"-citibike-tripdata.csv\"):\n",
    "            # if in the current dir just move it\n",
    "            if os.system(\"mv \" + datestring + \"-citibike-tripdata.csv \" + os.getenv(\"PUIDATA\")):\n",
    "                print (\"Error moving file!, Please check!\")\n",
    "        #otherwise start looking for the zip file\n",
    "        else:\n",
    "            if not os.path.isfile(os.getenv(\"PUIDATA\") + \"/\" + datestring + \"-citibike-tripdata.zip\"):\n",
    "                if not os.path.isfile(datestring + \"-citibike-tripdata.zip\"):\n",
    "                    os.system(\"curl -O https://s3.amazonaws.com/tripdata/\" + datestring + \"-citibike-tripdata.zip\")\n",
    "                ###  To move it I use the os.system() functions to run bash commands with arguments\n",
    "                os.system(\"mv \" + datestring + \"-citibike-tripdata.zip \" + os.getenv(\"PUIDATA\"))\n",
    "            ### unzip the csv \n",
    "            os.system(\"unzip \" + os.getenv(\"PUIDATA\") + \"/\" + datestring + \"-citibike-tripdata.zip\")\n",
    "            ## NOTE: old csv citibike data had a different name structure. \n",
    "            if '2014' in datestring:\n",
    "                os.system(\"mv \" + datestring[:4] + '-' +  datestring[4:] + \n",
    "                          \"\\ -\\ Citi\\ Bike\\ trip\\ data.csv \" + datestring + \"-citibike-tripdata.csv\")\n",
    "            os.system(\"mv \" + datestring + \"-citibike-tripdata.csv \" + os.getenv(\"PUIDATA\"))\n",
    "    ### One final check:\n",
    "    if not os.path.isfile(os.getenv(\"PUIDATA\") + \"/\" + datestring + \"-citibike-tripdata.csv\"):\n",
    "        print (\"WARNING!!! something is wrong: the file is not there!\")\n",
    "\n",
    "    else:\n",
    "        print(\"file in place, you can continue\")"
   ]
  },
  {
   "cell_type": "markdown",
   "metadata": {},
   "source": [
    "## Read in the Data"
   ]
  },
  {
   "cell_type": "markdown",
   "metadata": {},
   "source": [
    "I am reading in data from January 2015 with the function that I created getCitiBikeCSV. You are requested to use 2 months at least. It would be a good idea to use data from a colder and a warmer months, since there are more riders in the warm weather and ridership patterns may change with weather, temperature, etc. You should use data from multiple months, joining multiple datasets (thus addressing some systematic errors as well)"
   ]
  },
  {
   "cell_type": "code",
   "execution_count": 12,
   "metadata": {
    "collapsed": false
   },
   "outputs": [
    {
     "name": "stdout",
     "output_type": "stream",
     "text": [
      "Downloading 201603\n",
      "file in place, you can continue\n",
      "Downloading 201604\n",
      "file in place, you can continue\n"
     ]
    },
    {
     "data": {
      "text/html": [
       "<div>\n",
       "<table border=\"1\" class=\"dataframe\">\n",
       "  <thead>\n",
       "    <tr style=\"text-align: right;\">\n",
       "      <th></th>\n",
       "      <th>tripduration</th>\n",
       "      <th>starttime</th>\n",
       "      <th>stoptime</th>\n",
       "      <th>start station id</th>\n",
       "      <th>start station name</th>\n",
       "      <th>start station latitude</th>\n",
       "      <th>start station longitude</th>\n",
       "      <th>end station id</th>\n",
       "      <th>end station name</th>\n",
       "      <th>end station latitude</th>\n",
       "      <th>end station longitude</th>\n",
       "      <th>bikeid</th>\n",
       "      <th>usertype</th>\n",
       "      <th>birth year</th>\n",
       "      <th>gender</th>\n",
       "    </tr>\n",
       "  </thead>\n",
       "  <tbody>\n",
       "    <tr>\n",
       "      <th>0</th>\n",
       "      <td>1491</td>\n",
       "      <td>3/1/2016 06:52:42</td>\n",
       "      <td>3/1/2016 07:17:33</td>\n",
       "      <td>72</td>\n",
       "      <td>W 52 St &amp; 11 Ave</td>\n",
       "      <td>40.767272</td>\n",
       "      <td>-73.993929</td>\n",
       "      <td>427</td>\n",
       "      <td>Bus Slip &amp; State St</td>\n",
       "      <td>40.701907</td>\n",
       "      <td>-74.013942</td>\n",
       "      <td>23914</td>\n",
       "      <td>Subscriber</td>\n",
       "      <td>1982.0</td>\n",
       "      <td>1</td>\n",
       "    </tr>\n",
       "    <tr>\n",
       "      <th>1</th>\n",
       "      <td>1044</td>\n",
       "      <td>3/1/2016 07:05:50</td>\n",
       "      <td>3/1/2016 07:23:15</td>\n",
       "      <td>72</td>\n",
       "      <td>W 52 St &amp; 11 Ave</td>\n",
       "      <td>40.767272</td>\n",
       "      <td>-73.993929</td>\n",
       "      <td>254</td>\n",
       "      <td>W 11 St &amp; 6 Ave</td>\n",
       "      <td>40.735324</td>\n",
       "      <td>-73.998004</td>\n",
       "      <td>23697</td>\n",
       "      <td>Subscriber</td>\n",
       "      <td>1978.0</td>\n",
       "      <td>1</td>\n",
       "    </tr>\n",
       "    <tr>\n",
       "      <th>2</th>\n",
       "      <td>714</td>\n",
       "      <td>3/1/2016 07:15:05</td>\n",
       "      <td>3/1/2016 07:26:59</td>\n",
       "      <td>72</td>\n",
       "      <td>W 52 St &amp; 11 Ave</td>\n",
       "      <td>40.767272</td>\n",
       "      <td>-73.993929</td>\n",
       "      <td>493</td>\n",
       "      <td>W 45 St &amp; 6 Ave</td>\n",
       "      <td>40.756800</td>\n",
       "      <td>-73.982912</td>\n",
       "      <td>21447</td>\n",
       "      <td>Subscriber</td>\n",
       "      <td>1960.0</td>\n",
       "      <td>2</td>\n",
       "    </tr>\n",
       "    <tr>\n",
       "      <th>3</th>\n",
       "      <td>329</td>\n",
       "      <td>3/1/2016 07:26:04</td>\n",
       "      <td>3/1/2016 07:31:34</td>\n",
       "      <td>72</td>\n",
       "      <td>W 52 St &amp; 11 Ave</td>\n",
       "      <td>40.767272</td>\n",
       "      <td>-73.993929</td>\n",
       "      <td>478</td>\n",
       "      <td>11 Ave &amp; W 41 St</td>\n",
       "      <td>40.760301</td>\n",
       "      <td>-73.998842</td>\n",
       "      <td>22351</td>\n",
       "      <td>Subscriber</td>\n",
       "      <td>1986.0</td>\n",
       "      <td>1</td>\n",
       "    </tr>\n",
       "    <tr>\n",
       "      <th>4</th>\n",
       "      <td>1871</td>\n",
       "      <td>3/1/2016 07:31:30</td>\n",
       "      <td>3/1/2016 08:02:41</td>\n",
       "      <td>72</td>\n",
       "      <td>W 52 St &amp; 11 Ave</td>\n",
       "      <td>40.767272</td>\n",
       "      <td>-73.993929</td>\n",
       "      <td>151</td>\n",
       "      <td>Cleveland Pl &amp; Spring St</td>\n",
       "      <td>40.722104</td>\n",
       "      <td>-73.997249</td>\n",
       "      <td>20985</td>\n",
       "      <td>Subscriber</td>\n",
       "      <td>1978.0</td>\n",
       "      <td>1</td>\n",
       "    </tr>\n",
       "  </tbody>\n",
       "</table>\n",
       "</div>"
      ],
      "text/plain": [
       "   tripduration          starttime           stoptime  start station id  \\\n",
       "0          1491  3/1/2016 06:52:42  3/1/2016 07:17:33                72   \n",
       "1          1044  3/1/2016 07:05:50  3/1/2016 07:23:15                72   \n",
       "2           714  3/1/2016 07:15:05  3/1/2016 07:26:59                72   \n",
       "3           329  3/1/2016 07:26:04  3/1/2016 07:31:34                72   \n",
       "4          1871  3/1/2016 07:31:30  3/1/2016 08:02:41                72   \n",
       "\n",
       "  start station name  start station latitude  start station longitude  \\\n",
       "0   W 52 St & 11 Ave               40.767272               -73.993929   \n",
       "1   W 52 St & 11 Ave               40.767272               -73.993929   \n",
       "2   W 52 St & 11 Ave               40.767272               -73.993929   \n",
       "3   W 52 St & 11 Ave               40.767272               -73.993929   \n",
       "4   W 52 St & 11 Ave               40.767272               -73.993929   \n",
       "\n",
       "   end station id          end station name  end station latitude  \\\n",
       "0             427       Bus Slip & State St             40.701907   \n",
       "1             254           W 11 St & 6 Ave             40.735324   \n",
       "2             493           W 45 St & 6 Ave             40.756800   \n",
       "3             478          11 Ave & W 41 St             40.760301   \n",
       "4             151  Cleveland Pl & Spring St             40.722104   \n",
       "\n",
       "   end station longitude  bikeid    usertype  birth year  gender  \n",
       "0             -74.013942   23914  Subscriber      1982.0       1  \n",
       "1             -73.998004   23697  Subscriber      1978.0       1  \n",
       "2             -73.982912   21447  Subscriber      1960.0       2  \n",
       "3             -73.998842   22351  Subscriber      1986.0       1  \n",
       "4             -73.997249   20985  Subscriber      1978.0       1  "
      ]
     },
     "execution_count": 12,
     "metadata": {},
     "output_type": "execute_result"
    }
   ],
   "source": [
    "datestring1 = '201603'\n",
    "datestring2 = '201604'\n",
    "\n",
    "\n",
    "getCitiBikeCSV(datestring1)\n",
    "getCitiBikeCSV(datestring2)\n",
    "df1 = pd.read_csv(os.getenv(\"PUIDATA\") + \"/\" + datestring1 + '-citibike-tripdata.csv')\n",
    "df2 = pd.read_csv(os.getenv(\"PUIDATA\") + \"/\" + datestring2 + '-citibike-tripdata.csv')\n",
    "\n",
    "df = pd.concat([df1,df2])\n",
    "df.head()"
   ]
  },
  {
   "cell_type": "code",
   "execution_count": 14,
   "metadata": {
    "collapsed": false,
    "scrolled": true
   },
   "outputs": [
    {
     "data": {
      "text/html": [
       "<div>\n",
       "<table border=\"1\" class=\"dataframe\">\n",
       "  <thead>\n",
       "    <tr style=\"text-align: right;\">\n",
       "      <th></th>\n",
       "      <th>tripduration</th>\n",
       "      <th>starttime</th>\n",
       "      <th>stoptime</th>\n",
       "      <th>start station id</th>\n",
       "      <th>start station name</th>\n",
       "      <th>start station latitude</th>\n",
       "      <th>start station longitude</th>\n",
       "      <th>end station id</th>\n",
       "      <th>end station name</th>\n",
       "      <th>end station latitude</th>\n",
       "      <th>end station longitude</th>\n",
       "      <th>bikeid</th>\n",
       "      <th>usertype</th>\n",
       "      <th>birth year</th>\n",
       "      <th>gender</th>\n",
       "      <th>Date</th>\n",
       "    </tr>\n",
       "  </thead>\n",
       "  <tbody>\n",
       "    <tr>\n",
       "      <th>0</th>\n",
       "      <td>1491</td>\n",
       "      <td>3/1/2016 06:52:42</td>\n",
       "      <td>3/1/2016 07:17:33</td>\n",
       "      <td>72</td>\n",
       "      <td>W 52 St &amp; 11 Ave</td>\n",
       "      <td>40.767272</td>\n",
       "      <td>-73.993929</td>\n",
       "      <td>427</td>\n",
       "      <td>Bus Slip &amp; State St</td>\n",
       "      <td>40.701907</td>\n",
       "      <td>-74.013942</td>\n",
       "      <td>23914</td>\n",
       "      <td>Subscriber</td>\n",
       "      <td>1982.0</td>\n",
       "      <td>1</td>\n",
       "      <td>2016-03-01 06:52:42</td>\n",
       "    </tr>\n",
       "    <tr>\n",
       "      <th>1</th>\n",
       "      <td>1044</td>\n",
       "      <td>3/1/2016 07:05:50</td>\n",
       "      <td>3/1/2016 07:23:15</td>\n",
       "      <td>72</td>\n",
       "      <td>W 52 St &amp; 11 Ave</td>\n",
       "      <td>40.767272</td>\n",
       "      <td>-73.993929</td>\n",
       "      <td>254</td>\n",
       "      <td>W 11 St &amp; 6 Ave</td>\n",
       "      <td>40.735324</td>\n",
       "      <td>-73.998004</td>\n",
       "      <td>23697</td>\n",
       "      <td>Subscriber</td>\n",
       "      <td>1978.0</td>\n",
       "      <td>1</td>\n",
       "      <td>2016-03-01 07:05:50</td>\n",
       "    </tr>\n",
       "    <tr>\n",
       "      <th>2</th>\n",
       "      <td>714</td>\n",
       "      <td>3/1/2016 07:15:05</td>\n",
       "      <td>3/1/2016 07:26:59</td>\n",
       "      <td>72</td>\n",
       "      <td>W 52 St &amp; 11 Ave</td>\n",
       "      <td>40.767272</td>\n",
       "      <td>-73.993929</td>\n",
       "      <td>493</td>\n",
       "      <td>W 45 St &amp; 6 Ave</td>\n",
       "      <td>40.756800</td>\n",
       "      <td>-73.982912</td>\n",
       "      <td>21447</td>\n",
       "      <td>Subscriber</td>\n",
       "      <td>1960.0</td>\n",
       "      <td>2</td>\n",
       "      <td>2016-03-01 07:15:05</td>\n",
       "    </tr>\n",
       "    <tr>\n",
       "      <th>3</th>\n",
       "      <td>329</td>\n",
       "      <td>3/1/2016 07:26:04</td>\n",
       "      <td>3/1/2016 07:31:34</td>\n",
       "      <td>72</td>\n",
       "      <td>W 52 St &amp; 11 Ave</td>\n",
       "      <td>40.767272</td>\n",
       "      <td>-73.993929</td>\n",
       "      <td>478</td>\n",
       "      <td>11 Ave &amp; W 41 St</td>\n",
       "      <td>40.760301</td>\n",
       "      <td>-73.998842</td>\n",
       "      <td>22351</td>\n",
       "      <td>Subscriber</td>\n",
       "      <td>1986.0</td>\n",
       "      <td>1</td>\n",
       "      <td>2016-03-01 07:26:04</td>\n",
       "    </tr>\n",
       "    <tr>\n",
       "      <th>4</th>\n",
       "      <td>1871</td>\n",
       "      <td>3/1/2016 07:31:30</td>\n",
       "      <td>3/1/2016 08:02:41</td>\n",
       "      <td>72</td>\n",
       "      <td>W 52 St &amp; 11 Ave</td>\n",
       "      <td>40.767272</td>\n",
       "      <td>-73.993929</td>\n",
       "      <td>151</td>\n",
       "      <td>Cleveland Pl &amp; Spring St</td>\n",
       "      <td>40.722104</td>\n",
       "      <td>-73.997249</td>\n",
       "      <td>20985</td>\n",
       "      <td>Subscriber</td>\n",
       "      <td>1978.0</td>\n",
       "      <td>1</td>\n",
       "      <td>2016-03-01 07:31:30</td>\n",
       "    </tr>\n",
       "  </tbody>\n",
       "</table>\n",
       "</div>"
      ],
      "text/plain": [
       "   tripduration          starttime           stoptime  start station id  \\\n",
       "0          1491  3/1/2016 06:52:42  3/1/2016 07:17:33                72   \n",
       "1          1044  3/1/2016 07:05:50  3/1/2016 07:23:15                72   \n",
       "2           714  3/1/2016 07:15:05  3/1/2016 07:26:59                72   \n",
       "3           329  3/1/2016 07:26:04  3/1/2016 07:31:34                72   \n",
       "4          1871  3/1/2016 07:31:30  3/1/2016 08:02:41                72   \n",
       "\n",
       "  start station name  start station latitude  start station longitude  \\\n",
       "0   W 52 St & 11 Ave               40.767272               -73.993929   \n",
       "1   W 52 St & 11 Ave               40.767272               -73.993929   \n",
       "2   W 52 St & 11 Ave               40.767272               -73.993929   \n",
       "3   W 52 St & 11 Ave               40.767272               -73.993929   \n",
       "4   W 52 St & 11 Ave               40.767272               -73.993929   \n",
       "\n",
       "   end station id          end station name  end station latitude  \\\n",
       "0             427       Bus Slip & State St             40.701907   \n",
       "1             254           W 11 St & 6 Ave             40.735324   \n",
       "2             493           W 45 St & 6 Ave             40.756800   \n",
       "3             478          11 Ave & W 41 St             40.760301   \n",
       "4             151  Cleveland Pl & Spring St             40.722104   \n",
       "\n",
       "   end station longitude  bikeid    usertype  birth year  gender  \\\n",
       "0             -74.013942   23914  Subscriber      1982.0       1   \n",
       "1             -73.998004   23697  Subscriber      1978.0       1   \n",
       "2             -73.982912   21447  Subscriber      1960.0       2   \n",
       "3             -73.998842   22351  Subscriber      1986.0       1   \n",
       "4             -73.997249   20985  Subscriber      1978.0       1   \n",
       "\n",
       "                 Date  \n",
       "0 2016-03-01 06:52:42  \n",
       "1 2016-03-01 07:05:50  \n",
       "2 2016-03-01 07:15:05  \n",
       "3 2016-03-01 07:26:04  \n",
       "4 2016-03-01 07:31:30  "
      ]
     },
     "execution_count": 14,
     "metadata": {},
     "output_type": "execute_result"
    }
   ],
   "source": [
    "df['Date'] = pd.to_datetime(df['starttime'])\n",
    "df.head()"
   ]
  },
  {
   "cell_type": "code",
   "execution_count": 16,
   "metadata": {
    "collapsed": false,
    "scrolled": true
   },
   "outputs": [
    {
     "data": {
      "text/plain": [
       "Index(['tripduration', 'starttime', 'stoptime', 'start station id',\n",
       "       'start station name', 'start station latitude',\n",
       "       'start station longitude', 'end station id', 'end station name',\n",
       "       'end station latitude', 'end station longitude', 'bikeid', 'usertype',\n",
       "       'birth year', 'gender', 'Date'],\n",
       "      dtype='object')"
      ]
     },
     "execution_count": 16,
     "metadata": {},
     "output_type": "execute_result"
    }
   ],
   "source": [
    "df.columns"
   ]
  },
  {
   "cell_type": "markdown",
   "metadata": {},
   "source": [
    "## Split by Category\n",
    "\n",
    "H0: There is no statistical difference between the distributions of trip durations for day and night time riders.\n",
    "$$ \\alpha = 0.05 $$\n",
    "\n",
    "H1: There is a statistical difference between the distributions of trip durations for day and night time riders."
   ]
  },
  {
   "cell_type": "code",
   "execution_count": 18,
   "metadata": {
    "collapsed": false
   },
   "outputs": [
    {
     "data": {
      "text/html": [
       "<div>\n",
       "<table border=\"1\" class=\"dataframe\">\n",
       "  <thead>\n",
       "    <tr style=\"text-align: right;\">\n",
       "      <th></th>\n",
       "      <th>tripduration</th>\n",
       "      <th>starttime</th>\n",
       "      <th>stoptime</th>\n",
       "      <th>start station id</th>\n",
       "      <th>start station name</th>\n",
       "      <th>start station latitude</th>\n",
       "      <th>start station longitude</th>\n",
       "      <th>end station id</th>\n",
       "      <th>end station name</th>\n",
       "      <th>end station latitude</th>\n",
       "      <th>end station longitude</th>\n",
       "      <th>bikeid</th>\n",
       "      <th>usertype</th>\n",
       "      <th>birth year</th>\n",
       "      <th>gender</th>\n",
       "      <th>Date</th>\n",
       "      <th>DayOrNight</th>\n",
       "    </tr>\n",
       "  </thead>\n",
       "  <tbody>\n",
       "    <tr>\n",
       "      <th>0</th>\n",
       "      <td>1491</td>\n",
       "      <td>3/1/2016 06:52:42</td>\n",
       "      <td>3/1/2016 07:17:33</td>\n",
       "      <td>72</td>\n",
       "      <td>W 52 St &amp; 11 Ave</td>\n",
       "      <td>40.767272</td>\n",
       "      <td>-73.993929</td>\n",
       "      <td>427</td>\n",
       "      <td>Bus Slip &amp; State St</td>\n",
       "      <td>40.701907</td>\n",
       "      <td>-74.013942</td>\n",
       "      <td>23914</td>\n",
       "      <td>Subscriber</td>\n",
       "      <td>1982.0</td>\n",
       "      <td>1</td>\n",
       "      <td>2016-03-01 06:52:42</td>\n",
       "      <td>0</td>\n",
       "    </tr>\n",
       "    <tr>\n",
       "      <th>1</th>\n",
       "      <td>1044</td>\n",
       "      <td>3/1/2016 07:05:50</td>\n",
       "      <td>3/1/2016 07:23:15</td>\n",
       "      <td>72</td>\n",
       "      <td>W 52 St &amp; 11 Ave</td>\n",
       "      <td>40.767272</td>\n",
       "      <td>-73.993929</td>\n",
       "      <td>254</td>\n",
       "      <td>W 11 St &amp; 6 Ave</td>\n",
       "      <td>40.735324</td>\n",
       "      <td>-73.998004</td>\n",
       "      <td>23697</td>\n",
       "      <td>Subscriber</td>\n",
       "      <td>1978.0</td>\n",
       "      <td>1</td>\n",
       "      <td>2016-03-01 07:05:50</td>\n",
       "      <td>0</td>\n",
       "    </tr>\n",
       "    <tr>\n",
       "      <th>2</th>\n",
       "      <td>714</td>\n",
       "      <td>3/1/2016 07:15:05</td>\n",
       "      <td>3/1/2016 07:26:59</td>\n",
       "      <td>72</td>\n",
       "      <td>W 52 St &amp; 11 Ave</td>\n",
       "      <td>40.767272</td>\n",
       "      <td>-73.993929</td>\n",
       "      <td>493</td>\n",
       "      <td>W 45 St &amp; 6 Ave</td>\n",
       "      <td>40.756800</td>\n",
       "      <td>-73.982912</td>\n",
       "      <td>21447</td>\n",
       "      <td>Subscriber</td>\n",
       "      <td>1960.0</td>\n",
       "      <td>2</td>\n",
       "      <td>2016-03-01 07:15:05</td>\n",
       "      <td>0</td>\n",
       "    </tr>\n",
       "    <tr>\n",
       "      <th>3</th>\n",
       "      <td>329</td>\n",
       "      <td>3/1/2016 07:26:04</td>\n",
       "      <td>3/1/2016 07:31:34</td>\n",
       "      <td>72</td>\n",
       "      <td>W 52 St &amp; 11 Ave</td>\n",
       "      <td>40.767272</td>\n",
       "      <td>-73.993929</td>\n",
       "      <td>478</td>\n",
       "      <td>11 Ave &amp; W 41 St</td>\n",
       "      <td>40.760301</td>\n",
       "      <td>-73.998842</td>\n",
       "      <td>22351</td>\n",
       "      <td>Subscriber</td>\n",
       "      <td>1986.0</td>\n",
       "      <td>1</td>\n",
       "      <td>2016-03-01 07:26:04</td>\n",
       "      <td>0</td>\n",
       "    </tr>\n",
       "    <tr>\n",
       "      <th>4</th>\n",
       "      <td>1871</td>\n",
       "      <td>3/1/2016 07:31:30</td>\n",
       "      <td>3/1/2016 08:02:41</td>\n",
       "      <td>72</td>\n",
       "      <td>W 52 St &amp; 11 Ave</td>\n",
       "      <td>40.767272</td>\n",
       "      <td>-73.993929</td>\n",
       "      <td>151</td>\n",
       "      <td>Cleveland Pl &amp; Spring St</td>\n",
       "      <td>40.722104</td>\n",
       "      <td>-73.997249</td>\n",
       "      <td>20985</td>\n",
       "      <td>Subscriber</td>\n",
       "      <td>1978.0</td>\n",
       "      <td>1</td>\n",
       "      <td>2016-03-01 07:31:30</td>\n",
       "      <td>0</td>\n",
       "    </tr>\n",
       "  </tbody>\n",
       "</table>\n",
       "</div>"
      ],
      "text/plain": [
       "   tripduration          starttime           stoptime  start station id  \\\n",
       "0          1491  3/1/2016 06:52:42  3/1/2016 07:17:33                72   \n",
       "1          1044  3/1/2016 07:05:50  3/1/2016 07:23:15                72   \n",
       "2           714  3/1/2016 07:15:05  3/1/2016 07:26:59                72   \n",
       "3           329  3/1/2016 07:26:04  3/1/2016 07:31:34                72   \n",
       "4          1871  3/1/2016 07:31:30  3/1/2016 08:02:41                72   \n",
       "\n",
       "  start station name  start station latitude  start station longitude  \\\n",
       "0   W 52 St & 11 Ave               40.767272               -73.993929   \n",
       "1   W 52 St & 11 Ave               40.767272               -73.993929   \n",
       "2   W 52 St & 11 Ave               40.767272               -73.993929   \n",
       "3   W 52 St & 11 Ave               40.767272               -73.993929   \n",
       "4   W 52 St & 11 Ave               40.767272               -73.993929   \n",
       "\n",
       "   end station id          end station name  end station latitude  \\\n",
       "0             427       Bus Slip & State St             40.701907   \n",
       "1             254           W 11 St & 6 Ave             40.735324   \n",
       "2             493           W 45 St & 6 Ave             40.756800   \n",
       "3             478          11 Ave & W 41 St             40.760301   \n",
       "4             151  Cleveland Pl & Spring St             40.722104   \n",
       "\n",
       "   end station longitude  bikeid    usertype  birth year  gender  \\\n",
       "0             -74.013942   23914  Subscriber      1982.0       1   \n",
       "1             -73.998004   23697  Subscriber      1978.0       1   \n",
       "2             -73.982912   21447  Subscriber      1960.0       2   \n",
       "3             -73.998842   22351  Subscriber      1986.0       1   \n",
       "4             -73.997249   20985  Subscriber      1978.0       1   \n",
       "\n",
       "                 Date  DayOrNight  \n",
       "0 2016-03-01 06:52:42           0  \n",
       "1 2016-03-01 07:05:50           0  \n",
       "2 2016-03-01 07:15:05           0  \n",
       "3 2016-03-01 07:26:04           0  \n",
       "4 2016-03-01 07:31:30           0  "
      ]
     },
     "execution_count": 18,
     "metadata": {},
     "output_type": "execute_result"
    }
   ],
   "source": [
    "def findtime(hour):\n",
    "    if hour >= 6 and hour < 18:\n",
    "        return 0\n",
    "    else:\n",
    "        return 1\n",
    "df[\"DayOrNight\"] = df['Date'].dt.hour.apply(findtime)\n",
    "df.head()"
   ]
  },
  {
   "cell_type": "code",
   "execution_count": 20,
   "metadata": {
    "collapsed": false
   },
   "outputs": [],
   "source": [
    "df_day = df[df[\"DayOrNight\"] == 0]\n",
    "df_night = df[df[\"DayOrNight\"] == 1]"
   ]
  },
  {
   "cell_type": "code",
   "execution_count": 22,
   "metadata": {
    "collapsed": false
   },
   "outputs": [
    {
     "name": "stderr",
     "output_type": "stream",
     "text": [
      "/opt/rh/anaconda/root/envs/PUI2016_Python3/lib/python3.5/site-packages/numpy/lib/function_base.py:3403: RuntimeWarning: Invalid value encountered in median\n",
      "  RuntimeWarning)\n"
     ]
    },
    {
     "data": {
      "text/html": [
       "<div>\n",
       "<table border=\"1\" class=\"dataframe\">\n",
       "  <thead>\n",
       "    <tr style=\"text-align: right;\">\n",
       "      <th></th>\n",
       "      <th>tripduration</th>\n",
       "      <th>start station id</th>\n",
       "      <th>start station latitude</th>\n",
       "      <th>start station longitude</th>\n",
       "      <th>end station id</th>\n",
       "      <th>end station latitude</th>\n",
       "      <th>end station longitude</th>\n",
       "      <th>bikeid</th>\n",
       "      <th>birth year</th>\n",
       "      <th>gender</th>\n",
       "      <th>DayOrNight</th>\n",
       "    </tr>\n",
       "  </thead>\n",
       "  <tbody>\n",
       "    <tr>\n",
       "      <th>count</th>\n",
       "      <td>1.933070e+06</td>\n",
       "      <td>1.933070e+06</td>\n",
       "      <td>1.933070e+06</td>\n",
       "      <td>1.933070e+06</td>\n",
       "      <td>1.933070e+06</td>\n",
       "      <td>1.933070e+06</td>\n",
       "      <td>1.933070e+06</td>\n",
       "      <td>1.933070e+06</td>\n",
       "      <td>1.709357e+06</td>\n",
       "      <td>1.933070e+06</td>\n",
       "      <td>1.933070e+06</td>\n",
       "    </tr>\n",
       "    <tr>\n",
       "      <th>mean</th>\n",
       "      <td>1.048386e+03</td>\n",
       "      <td>8.800252e+02</td>\n",
       "      <td>4.073755e+01</td>\n",
       "      <td>-7.398708e+01</td>\n",
       "      <td>8.653476e+02</td>\n",
       "      <td>4.073641e+01</td>\n",
       "      <td>-7.398564e+01</td>\n",
       "      <td>1.943758e+04</td>\n",
       "      <td>1.977019e+03</td>\n",
       "      <td>1.087634e+00</td>\n",
       "      <td>2.862359e-01</td>\n",
       "    </tr>\n",
       "    <tr>\n",
       "      <th>std</th>\n",
       "      <td>1.094378e+04</td>\n",
       "      <td>1.037885e+03</td>\n",
       "      <td>2.214487e-02</td>\n",
       "      <td>1.569833e-02</td>\n",
       "      <td>1.024978e+03</td>\n",
       "      <td>1.911625e-01</td>\n",
       "      <td>3.452256e-01</td>\n",
       "      <td>2.887891e+03</td>\n",
       "      <td>1.176226e+01</td>\n",
       "      <td>5.616894e-01</td>\n",
       "      <td>4.520011e-01</td>\n",
       "    </tr>\n",
       "    <tr>\n",
       "      <th>min</th>\n",
       "      <td>6.100000e+01</td>\n",
       "      <td>7.200000e+01</td>\n",
       "      <td>4.067891e+01</td>\n",
       "      <td>-7.401713e+01</td>\n",
       "      <td>7.200000e+01</td>\n",
       "      <td>0.000000e+00</td>\n",
       "      <td>-7.405950e+01</td>\n",
       "      <td>1.452900e+04</td>\n",
       "      <td>1.885000e+03</td>\n",
       "      <td>0.000000e+00</td>\n",
       "      <td>0.000000e+00</td>\n",
       "    </tr>\n",
       "    <tr>\n",
       "      <th>25%</th>\n",
       "      <td>3.700000e+02</td>\n",
       "      <td>3.270000e+02</td>\n",
       "      <td>4.072205e+01</td>\n",
       "      <td>-7.399800e+01</td>\n",
       "      <td>3.260000e+02</td>\n",
       "      <td>4.072205e+01</td>\n",
       "      <td>-7.399810e+01</td>\n",
       "      <td>1.695700e+04</td>\n",
       "      <td>NaN</td>\n",
       "      <td>1.000000e+00</td>\n",
       "      <td>0.000000e+00</td>\n",
       "    </tr>\n",
       "    <tr>\n",
       "      <th>50%</th>\n",
       "      <td>6.090000e+02</td>\n",
       "      <td>4.480000e+02</td>\n",
       "      <td>4.073902e+01</td>\n",
       "      <td>-7.398889e+01</td>\n",
       "      <td>4.470000e+02</td>\n",
       "      <td>4.073818e+01</td>\n",
       "      <td>-7.398911e+01</td>\n",
       "      <td>1.932400e+04</td>\n",
       "      <td>NaN</td>\n",
       "      <td>1.000000e+00</td>\n",
       "      <td>0.000000e+00</td>\n",
       "    </tr>\n",
       "    <tr>\n",
       "      <th>75%</th>\n",
       "      <td>1.037000e+03</td>\n",
       "      <td>5.220000e+02</td>\n",
       "      <td>4.075255e+01</td>\n",
       "      <td>-7.397772e+01</td>\n",
       "      <td>5.210000e+02</td>\n",
       "      <td>4.075206e+01</td>\n",
       "      <td>-7.397791e+01</td>\n",
       "      <td>2.203200e+04</td>\n",
       "      <td>NaN</td>\n",
       "      <td>1.000000e+00</td>\n",
       "      <td>1.000000e+00</td>\n",
       "    </tr>\n",
       "    <tr>\n",
       "      <th>max</th>\n",
       "      <td>3.652747e+06</td>\n",
       "      <td>3.249000e+03</td>\n",
       "      <td>4.078721e+01</td>\n",
       "      <td>-7.392989e+01</td>\n",
       "      <td>3.250000e+03</td>\n",
       "      <td>4.078721e+01</td>\n",
       "      <td>0.000000e+00</td>\n",
       "      <td>2.494500e+04</td>\n",
       "      <td>2.000000e+03</td>\n",
       "      <td>2.000000e+00</td>\n",
       "      <td>1.000000e+00</td>\n",
       "    </tr>\n",
       "  </tbody>\n",
       "</table>\n",
       "</div>"
      ],
      "text/plain": [
       "       tripduration  start station id  start station latitude  \\\n",
       "count  1.933070e+06      1.933070e+06            1.933070e+06   \n",
       "mean   1.048386e+03      8.800252e+02            4.073755e+01   \n",
       "std    1.094378e+04      1.037885e+03            2.214487e-02   \n",
       "min    6.100000e+01      7.200000e+01            4.067891e+01   \n",
       "25%    3.700000e+02      3.270000e+02            4.072205e+01   \n",
       "50%    6.090000e+02      4.480000e+02            4.073902e+01   \n",
       "75%    1.037000e+03      5.220000e+02            4.075255e+01   \n",
       "max    3.652747e+06      3.249000e+03            4.078721e+01   \n",
       "\n",
       "       start station longitude  end station id  end station latitude  \\\n",
       "count             1.933070e+06    1.933070e+06          1.933070e+06   \n",
       "mean             -7.398708e+01    8.653476e+02          4.073641e+01   \n",
       "std               1.569833e-02    1.024978e+03          1.911625e-01   \n",
       "min              -7.401713e+01    7.200000e+01          0.000000e+00   \n",
       "25%              -7.399800e+01    3.260000e+02          4.072205e+01   \n",
       "50%              -7.398889e+01    4.470000e+02          4.073818e+01   \n",
       "75%              -7.397772e+01    5.210000e+02          4.075206e+01   \n",
       "max              -7.392989e+01    3.250000e+03          4.078721e+01   \n",
       "\n",
       "       end station longitude        bikeid    birth year        gender  \\\n",
       "count           1.933070e+06  1.933070e+06  1.709357e+06  1.933070e+06   \n",
       "mean           -7.398564e+01  1.943758e+04  1.977019e+03  1.087634e+00   \n",
       "std             3.452256e-01  2.887891e+03  1.176226e+01  5.616894e-01   \n",
       "min            -7.405950e+01  1.452900e+04  1.885000e+03  0.000000e+00   \n",
       "25%            -7.399810e+01  1.695700e+04           NaN  1.000000e+00   \n",
       "50%            -7.398911e+01  1.932400e+04           NaN  1.000000e+00   \n",
       "75%            -7.397791e+01  2.203200e+04           NaN  1.000000e+00   \n",
       "max             0.000000e+00  2.494500e+04  2.000000e+03  2.000000e+00   \n",
       "\n",
       "         DayOrNight  \n",
       "count  1.933070e+06  \n",
       "mean   2.862359e-01  \n",
       "std    4.520011e-01  \n",
       "min    0.000000e+00  \n",
       "25%    0.000000e+00  \n",
       "50%    0.000000e+00  \n",
       "75%    1.000000e+00  \n",
       "max    1.000000e+00  "
      ]
     },
     "execution_count": 22,
     "metadata": {},
     "output_type": "execute_result"
    }
   ],
   "source": [
    "#your df should look something like this\n",
    "# look at these data carefully... you may see someinteresting values!\n",
    "df.describe()"
   ]
  },
  {
   "cell_type": "markdown",
   "metadata": {},
   "source": [
    "## KS tests to compare 2 samples\n",
    "\n",
    "http://docs.scipy.org/doc/scipy-0.15.1/reference/generated/scipy.stats.ks_2samp.html\n",
    "\n",
    "the KS test in scipy returns the p-value BUT make sure you understand what the NULL is! read the documentation carefully! what is the null hypothesis that you can/cannot reject?"
   ]
  },
  {
   "cell_type": "code",
   "execution_count": 24,
   "metadata": {
    "collapsed": false
   },
   "outputs": [
    {
     "data": {
      "text/plain": [
       "Ks_2sampResult(statistic=0.036606704171469162, pvalue=0.0)"
      ]
     },
     "execution_count": 24,
     "metadata": {},
     "output_type": "execute_result"
    }
   ],
   "source": [
    "# Entire Dataset\n",
    "scipy.stats.ks_2samp((df_day[\"tripduration\"]),(df_night[\"tripduration\"]))"
   ]
  },
  {
   "cell_type": "markdown",
   "metadata": {},
   "source": [
    "FILL IN THE CELL BELOW!"
   ]
  },
  {
   "cell_type": "code",
   "execution_count": 26,
   "metadata": {
    "collapsed": true
   },
   "outputs": [],
   "source": [
    "# The null hypothesis can be rejected because the p value is 0. "
   ]
  },
  {
   "cell_type": "markdown",
   "metadata": {},
   "source": [
    "\n",
    "\n",
    "The scipy.stats KS test already tells me the significance and the p-value.\n",
    "\n",
    "The next few cells are here just to show you how you would obtain the same result by hand, but they are not required.\n",
    "\n",
    "Remember: the Null hypothesis is rejected if\n",
    "\n",
    "$D_KS(n1,n2) &gt; c(\\alpha) \\sqrt{\\frac{(n1 + n2)}{n1n2}}$\n",
    "\n",
    "(see class notes) where $c(\\alpha$) is the inverse of the KS distribution, and you do not have to know how to get that cause there are tables that list critical values!!\n",
    "\n",
    "http://www.real-statistics.com/tests-normality-and-symmetry/statistical-tests-normality-symmetry/kolmogorov-smirnov-test/kolmogorov-distribution/\n",
    "\n",
    "But also this result depends in your choice of binning through, and thustheresultyou get by hand may not be exactly the same as the one the KS returns. Either way: this is how you would calculate the KS statistics by hand.\n"
   ]
  },
  {
   "cell_type": "code",
   "execution_count": 28,
   "metadata": {
    "collapsed": false
   },
   "outputs": [],
   "source": [
    "np.random.seed(5)"
   ]
  },
  {
   "cell_type": "code",
   "execution_count": 30,
   "metadata": {
    "collapsed": false
   },
   "outputs": [
    {
     "data": {
      "text/plain": [
       "553314"
      ]
     },
     "execution_count": 30,
     "metadata": {},
     "output_type": "execute_result"
    }
   ],
   "source": [
    "size(df_night['tripduration'])"
   ]
  },
  {
   "cell_type": "code",
   "execution_count": 32,
   "metadata": {
    "collapsed": false
   },
   "outputs": [],
   "source": [
    "df_daySamp = np.random.choice(df_day[\"tripduration\"],size=553314,replace=False)\n",
    "\n",
    "# Pulling one in 200: 553314 / 200 = 2766\n",
    "df_daySamp200 = np.random.choice(df_daySamp,size=2766,replace=False)\n",
    "df_nightSamp200 = np.random.choice(df_night[\"tripduration\"],size=2766,replace=False)"
   ]
  },
  {
   "cell_type": "code",
   "execution_count": 34,
   "metadata": {
    "collapsed": false
   },
   "outputs": [
    {
     "data": {
      "text/plain": [
       "Ks_2sampResult(statistic=0.046637744034707107, pvalue=0.0046869602525954346)"
      ]
     },
     "execution_count": 34,
     "metadata": {},
     "output_type": "execute_result"
    }
   ],
   "source": [
    "# Subsample\n",
    "# The null hypothesis can be rejected because the p value is below 0.05. \n",
    "\n",
    "scipy.stats.ks_2samp(df_daySamp200,df_nightSamp200)"
   ]
  },
  {
   "cell_type": "markdown",
   "metadata": {},
   "source": [
    "\n",
    "## Now retest using a test for correlation.\n",
    "\n",
    "That will answer a slightly different question though - formulate the NULL appropriately. The tests for correlations (generally) requires the variable to be paired, so that I can tell if x changes does y change similarly. But the datasets are of different size! You will need to reduce them to the same size. You can do that by subsampling of the data: take only 1 ride every of 200, which you can achieve \"slicing and broadcasting\" the array or using one of the python function (built in python numpy.random.choice() functions for example: Docstring: choice(a, size=None, replace=True, p=None)\n",
    "\n",
    "Generates a random sample from a given 1-D array\n",
    "\n",
    "    .. versionadded:: 1.7.0\n",
    "\n",
    "Parameters ...\n",
    "\n",
    "But make sure you understand how to use it! there is an option \"replace\" which you should think about.\n"
   ]
  },
  {
   "cell_type": "markdown",
   "metadata": {},
   "source": [
    "H0: There is no significant correlation between trip durations for day and night time riders.\n",
    "$$ \\alpha = 0.05 $$\n",
    "\n",
    "H1: There is a significant correlation between trip durations for day and night time riders."
   ]
  },
  {
   "cell_type": "markdown",
   "metadata": {},
   "source": [
    "## Pearson's test for correlation\n",
    " notice that the Pearson's is a pairwise test: the samples need to be a. the same size b. sorted! (how??)\n",
    "\n",
    "http://docs.scipy.org/doc/scipy/reference/generated/scipy.stats.pearsonr.html#scipy.stats.pearsonr"
   ]
  },
  {
   "cell_type": "code",
   "execution_count": 36,
   "metadata": {
    "collapsed": false
   },
   "outputs": [
    {
     "data": {
      "text/plain": [
       "(0.96747722675962555, 0.0)"
      ]
     },
     "execution_count": 36,
     "metadata": {},
     "output_type": "execute_result"
    }
   ],
   "source": [
    "df_daySampSort = np.sort(df_daySamp)\n",
    "df_nightSampSort = np.sort(df_night[\"tripduration\"])\n",
    "\n",
    "scipy.stats.pearsonr(df_daySampSort, df_nightSampSort)"
   ]
  },
  {
   "cell_type": "code",
   "execution_count": 38,
   "metadata": {
    "collapsed": true
   },
   "outputs": [],
   "source": [
    "# The null hypothesis is rejected because the correlation coefficient of .97 shows almost\n",
    "# an exact positive linear relationship, while the p-value of 0 shows such a result has no \n",
    "# probability of occuring by chance."
   ]
  },
  {
   "cell_type": "markdown",
   "metadata": {
    "collapsed": false
   },
   "source": [
    "## Spearman's test for correlation\n",
    "http://docs.scipy.org/doc/scipy/reference/generated/scipy.stats.spearmanr.html#scipy.stats.spearmanr"
   ]
  },
  {
   "cell_type": "code",
   "execution_count": 40,
   "metadata": {
    "collapsed": false
   },
   "outputs": [
    {
     "data": {
      "text/plain": [
       "SpearmanrResult(correlation=0.99999930407260829, pvalue=0.0)"
      ]
     },
     "execution_count": 40,
     "metadata": {},
     "output_type": "execute_result"
    }
   ],
   "source": [
    "scipy.stats.spearmanr(df_daySampSort, df_nightSampSort)"
   ]
  },
  {
   "cell_type": "markdown",
   "metadata": {},
   "source": [
    "please comment on the numbers that you get in the light of the scipy manual: what is rerutned? what does it mean??"
   ]
  },
  {
   "cell_type": "code",
   "execution_count": 42,
   "metadata": {
    "collapsed": true
   },
   "outputs": [],
   "source": [
    "# The null hypothesis is rejected because the correlation coefficient of .99 shows almost\n",
    "# an exact positive linear relationship, while the p-value of 0 shows such a result has no \n",
    "# probability of occuring by chance."
   ]
  },
  {
   "cell_type": "markdown",
   "metadata": {
    "collapsed": true
   },
   "source": [
    "## Comparing ages between Manhattan and Brooklyn"
   ]
  },
  {
   "cell_type": "code",
   "execution_count": 44,
   "metadata": {
    "collapsed": false
   },
   "outputs": [],
   "source": [
    "# Finding citibike trips above southwest manhattan and west of williamsburg\n",
    "SWlat = 40.704608\n",
    "wburglong = -73.967590\n",
    "\n",
    "# manhattan = 1\n",
    "# brooklyn = 0\n",
    "def find_borough(lat_long):\n",
    "    lat,long = lat_long\n",
    "    if (lat > SWlat) & (long < wburglong):\n",
    "        return 1\n",
    "    else:\n",
    "        return 0\n",
    "\n",
    "df['borough'] = df[['start station latitude', 'start station longitude']].apply(find_borough,axis=1)"
   ]
  },
  {
   "cell_type": "code",
   "execution_count": 46,
   "metadata": {
    "collapsed": false
   },
   "outputs": [
    {
     "data": {
      "text/html": [
       "<div>\n",
       "<table border=\"1\" class=\"dataframe\">\n",
       "  <thead>\n",
       "    <tr style=\"text-align: right;\">\n",
       "      <th></th>\n",
       "      <th>tripduration</th>\n",
       "      <th>starttime</th>\n",
       "      <th>stoptime</th>\n",
       "      <th>start station id</th>\n",
       "      <th>start station name</th>\n",
       "      <th>start station latitude</th>\n",
       "      <th>start station longitude</th>\n",
       "      <th>end station id</th>\n",
       "      <th>end station name</th>\n",
       "      <th>end station latitude</th>\n",
       "      <th>end station longitude</th>\n",
       "      <th>bikeid</th>\n",
       "      <th>usertype</th>\n",
       "      <th>birth year</th>\n",
       "      <th>gender</th>\n",
       "      <th>Date</th>\n",
       "      <th>DayOrNight</th>\n",
       "      <th>borough</th>\n",
       "      <th>age</th>\n",
       "    </tr>\n",
       "  </thead>\n",
       "  <tbody>\n",
       "    <tr>\n",
       "      <th>0</th>\n",
       "      <td>1491</td>\n",
       "      <td>3/1/2016 06:52:42</td>\n",
       "      <td>3/1/2016 07:17:33</td>\n",
       "      <td>72</td>\n",
       "      <td>W 52 St &amp; 11 Ave</td>\n",
       "      <td>40.767272</td>\n",
       "      <td>-73.993929</td>\n",
       "      <td>427</td>\n",
       "      <td>Bus Slip &amp; State St</td>\n",
       "      <td>40.701907</td>\n",
       "      <td>-74.013942</td>\n",
       "      <td>23914</td>\n",
       "      <td>Subscriber</td>\n",
       "      <td>1982.0</td>\n",
       "      <td>1</td>\n",
       "      <td>2016-03-01 06:52:42</td>\n",
       "      <td>0</td>\n",
       "      <td>1</td>\n",
       "      <td>35.0</td>\n",
       "    </tr>\n",
       "    <tr>\n",
       "      <th>1</th>\n",
       "      <td>1044</td>\n",
       "      <td>3/1/2016 07:05:50</td>\n",
       "      <td>3/1/2016 07:23:15</td>\n",
       "      <td>72</td>\n",
       "      <td>W 52 St &amp; 11 Ave</td>\n",
       "      <td>40.767272</td>\n",
       "      <td>-73.993929</td>\n",
       "      <td>254</td>\n",
       "      <td>W 11 St &amp; 6 Ave</td>\n",
       "      <td>40.735324</td>\n",
       "      <td>-73.998004</td>\n",
       "      <td>23697</td>\n",
       "      <td>Subscriber</td>\n",
       "      <td>1978.0</td>\n",
       "      <td>1</td>\n",
       "      <td>2016-03-01 07:05:50</td>\n",
       "      <td>0</td>\n",
       "      <td>1</td>\n",
       "      <td>39.0</td>\n",
       "    </tr>\n",
       "    <tr>\n",
       "      <th>2</th>\n",
       "      <td>714</td>\n",
       "      <td>3/1/2016 07:15:05</td>\n",
       "      <td>3/1/2016 07:26:59</td>\n",
       "      <td>72</td>\n",
       "      <td>W 52 St &amp; 11 Ave</td>\n",
       "      <td>40.767272</td>\n",
       "      <td>-73.993929</td>\n",
       "      <td>493</td>\n",
       "      <td>W 45 St &amp; 6 Ave</td>\n",
       "      <td>40.756800</td>\n",
       "      <td>-73.982912</td>\n",
       "      <td>21447</td>\n",
       "      <td>Subscriber</td>\n",
       "      <td>1960.0</td>\n",
       "      <td>2</td>\n",
       "      <td>2016-03-01 07:15:05</td>\n",
       "      <td>0</td>\n",
       "      <td>1</td>\n",
       "      <td>57.0</td>\n",
       "    </tr>\n",
       "    <tr>\n",
       "      <th>3</th>\n",
       "      <td>329</td>\n",
       "      <td>3/1/2016 07:26:04</td>\n",
       "      <td>3/1/2016 07:31:34</td>\n",
       "      <td>72</td>\n",
       "      <td>W 52 St &amp; 11 Ave</td>\n",
       "      <td>40.767272</td>\n",
       "      <td>-73.993929</td>\n",
       "      <td>478</td>\n",
       "      <td>11 Ave &amp; W 41 St</td>\n",
       "      <td>40.760301</td>\n",
       "      <td>-73.998842</td>\n",
       "      <td>22351</td>\n",
       "      <td>Subscriber</td>\n",
       "      <td>1986.0</td>\n",
       "      <td>1</td>\n",
       "      <td>2016-03-01 07:26:04</td>\n",
       "      <td>0</td>\n",
       "      <td>1</td>\n",
       "      <td>31.0</td>\n",
       "    </tr>\n",
       "    <tr>\n",
       "      <th>4</th>\n",
       "      <td>1871</td>\n",
       "      <td>3/1/2016 07:31:30</td>\n",
       "      <td>3/1/2016 08:02:41</td>\n",
       "      <td>72</td>\n",
       "      <td>W 52 St &amp; 11 Ave</td>\n",
       "      <td>40.767272</td>\n",
       "      <td>-73.993929</td>\n",
       "      <td>151</td>\n",
       "      <td>Cleveland Pl &amp; Spring St</td>\n",
       "      <td>40.722104</td>\n",
       "      <td>-73.997249</td>\n",
       "      <td>20985</td>\n",
       "      <td>Subscriber</td>\n",
       "      <td>1978.0</td>\n",
       "      <td>1</td>\n",
       "      <td>2016-03-01 07:31:30</td>\n",
       "      <td>0</td>\n",
       "      <td>1</td>\n",
       "      <td>39.0</td>\n",
       "    </tr>\n",
       "  </tbody>\n",
       "</table>\n",
       "</div>"
      ],
      "text/plain": [
       "   tripduration          starttime           stoptime  start station id  \\\n",
       "0          1491  3/1/2016 06:52:42  3/1/2016 07:17:33                72   \n",
       "1          1044  3/1/2016 07:05:50  3/1/2016 07:23:15                72   \n",
       "2           714  3/1/2016 07:15:05  3/1/2016 07:26:59                72   \n",
       "3           329  3/1/2016 07:26:04  3/1/2016 07:31:34                72   \n",
       "4          1871  3/1/2016 07:31:30  3/1/2016 08:02:41                72   \n",
       "\n",
       "  start station name  start station latitude  start station longitude  \\\n",
       "0   W 52 St & 11 Ave               40.767272               -73.993929   \n",
       "1   W 52 St & 11 Ave               40.767272               -73.993929   \n",
       "2   W 52 St & 11 Ave               40.767272               -73.993929   \n",
       "3   W 52 St & 11 Ave               40.767272               -73.993929   \n",
       "4   W 52 St & 11 Ave               40.767272               -73.993929   \n",
       "\n",
       "   end station id          end station name  end station latitude  \\\n",
       "0             427       Bus Slip & State St             40.701907   \n",
       "1             254           W 11 St & 6 Ave             40.735324   \n",
       "2             493           W 45 St & 6 Ave             40.756800   \n",
       "3             478          11 Ave & W 41 St             40.760301   \n",
       "4             151  Cleveland Pl & Spring St             40.722104   \n",
       "\n",
       "   end station longitude  bikeid    usertype  birth year  gender  \\\n",
       "0             -74.013942   23914  Subscriber      1982.0       1   \n",
       "1             -73.998004   23697  Subscriber      1978.0       1   \n",
       "2             -73.982912   21447  Subscriber      1960.0       2   \n",
       "3             -73.998842   22351  Subscriber      1986.0       1   \n",
       "4             -73.997249   20985  Subscriber      1978.0       1   \n",
       "\n",
       "                 Date  DayOrNight  borough   age  \n",
       "0 2016-03-01 06:52:42           0        1  35.0  \n",
       "1 2016-03-01 07:05:50           0        1  39.0  \n",
       "2 2016-03-01 07:15:05           0        1  57.0  \n",
       "3 2016-03-01 07:26:04           0        1  31.0  \n",
       "4 2016-03-01 07:31:30           0        1  39.0  "
      ]
     },
     "execution_count": 46,
     "metadata": {},
     "output_type": "execute_result"
    }
   ],
   "source": [
    "df['age'] = 2017 - df['birth year']\n",
    "df = df.dropna(subset=['age'],axis=0)\n",
    "df.head()"
   ]
  },
  {
   "cell_type": "markdown",
   "metadata": {},
   "source": [
    "## Split by Category\n",
    "\n",
    "H0: There is no statistical difference between the distributions of ages for Manhattan and Brooklyn riders.\n",
    "$$ \\alpha = 0.05 $$\n",
    "\n",
    "H1: There is a statistical difference between the distributions of ages for Manhattan and Brooklyn riders."
   ]
  },
  {
   "cell_type": "code",
   "execution_count": 48,
   "metadata": {
    "collapsed": true
   },
   "outputs": [],
   "source": [
    "df_manhattan = df[df[\"borough\"] == 1]\n",
    "df_brooklyn = df[df[\"borough\"] == 0]"
   ]
  },
  {
   "cell_type": "code",
   "execution_count": 50,
   "metadata": {
    "collapsed": false
   },
   "outputs": [
    {
     "data": {
      "text/plain": [
       "Ks_2sampResult(statistic=0.086052817997637421, pvalue=0.0)"
      ]
     },
     "execution_count": 50,
     "metadata": {},
     "output_type": "execute_result"
    }
   ],
   "source": [
    "scipy.stats.ks_2samp((df_manhattan[\"age\"]),(df_brooklyn[\"age\"]))"
   ]
  },
  {
   "cell_type": "code",
   "execution_count": null,
   "metadata": {
    "collapsed": true
   },
   "outputs": [],
   "source": [
    "# The null hypothesis can be rejected because the p value is 0. "
   ]
  },
  {
   "cell_type": "markdown",
   "metadata": {},
   "source": [
    "H0: There is no significant correlation between ages of Brooklyn and Manhattan riders.\n",
    "\n",
    "α=0.05\n",
    "\n",
    "H1: There is a significant correlation between ages of Brooklyn and Manhattan riders."
   ]
  },
  {
   "cell_type": "code",
   "execution_count": 52,
   "metadata": {
    "collapsed": false
   },
   "outputs": [
    {
     "data": {
      "text/plain": [
       "280652"
      ]
     },
     "execution_count": 52,
     "metadata": {},
     "output_type": "execute_result"
    }
   ],
   "source": [
    "size(df_brooklyn['age'])"
   ]
  },
  {
   "cell_type": "code",
   "execution_count": 53,
   "metadata": {
    "collapsed": true
   },
   "outputs": [],
   "source": [
    "df_manhattanSamp = np.random.choice(df_manhattan[\"age\"],size=280652,replace=False)"
   ]
  },
  {
   "cell_type": "code",
   "execution_count": 54,
   "metadata": {
    "collapsed": false
   },
   "outputs": [
    {
     "data": {
      "text/plain": [
       "(0.99288544736897566, 0.0)"
      ]
     },
     "execution_count": 54,
     "metadata": {},
     "output_type": "execute_result"
    }
   ],
   "source": [
    "df_manhattanSort = np.sort(df_manhattanSamp)\n",
    "df_brooklynSort = np.sort(df_brooklyn[\"age\"])\n",
    "\n",
    "scipy.stats.pearsonr(df_manhattanSort, df_brooklynSort)"
   ]
  },
  {
   "cell_type": "code",
   "execution_count": 55,
   "metadata": {
    "collapsed": false
   },
   "outputs": [
    {
     "data": {
      "text/plain": [
       "SpearmanrResult(correlation=0.99889777968133575, pvalue=0.0)"
      ]
     },
     "execution_count": 55,
     "metadata": {},
     "output_type": "execute_result"
    }
   ],
   "source": [
    "scipy.stats.spearmanr(df_manhattanSort, df_brooklynSort)"
   ]
  },
  {
   "cell_type": "code",
   "execution_count": null,
   "metadata": {
    "collapsed": true
   },
   "outputs": [],
   "source": [
    "# The null hypothesis is rejected because the correlation coefficients of .99 show almost\n",
    "# an exact positive linear relationship, while the p-values of 0 shows such a result has no \n",
    "# probability of occuring by chance."
   ]
  }
 ],
 "metadata": {
  "kernelspec": {
   "display_name": "PUI2016_Python3",
   "language": "python",
   "name": "pui2016_python3"
  },
  "language_info": {
   "codemirror_mode": {
    "name": "ipython",
    "version": 3
   },
   "file_extension": ".py",
   "mimetype": "text/x-python",
   "name": "python",
   "nbconvert_exporter": "python",
   "pygments_lexer": "ipython3",
   "version": "3.5.4"
  }
 },
 "nbformat": 4,
 "nbformat_minor": 0
}
