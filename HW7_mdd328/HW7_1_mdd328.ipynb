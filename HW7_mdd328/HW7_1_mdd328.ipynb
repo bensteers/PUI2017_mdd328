{
 "cells": [
  {
   "cell_type": "markdown",
   "metadata": {},
   "source": [
    "## Question: \n",
    "Is trip duration longer during commuting hours?\n",
    "\n",
    "\n",
    "## Null Hypothesis: \n",
    "\n",
    "The average trip duration during commuting hours, 8AM to 9AM and 5PM to 6PM, are the same or shorter than the average trip duration for each hour during the rest of the day. \n",
    "\n",
    "## Alternative Hypothesis: \n",
    "\n",
    "The average trip duration during commuting hours, 8AM to 9AM and 5PM to 6PM, are significantly longer than the average trip duration for each hour during the rest of the day. \n",
    "\n",
    "The significance level will be 0.05.\n"
   ]
  },
  {
   "cell_type": "code",
   "execution_count": 118,
   "metadata": {
    "collapsed": false
   },
   "outputs": [
    {
     "data": {
      "text/html": [
       "<div>\n",
       "<table border=\"1\" class=\"dataframe\">\n",
       "  <thead>\n",
       "    <tr style=\"text-align: right;\">\n",
       "      <th></th>\n",
       "      <th>tripduration</th>\n",
       "      <th>starttime</th>\n",
       "      <th>stoptime</th>\n",
       "      <th>start station id</th>\n",
       "      <th>start station name</th>\n",
       "      <th>start station latitude</th>\n",
       "      <th>start station longitude</th>\n",
       "      <th>end station id</th>\n",
       "      <th>end station name</th>\n",
       "      <th>end station latitude</th>\n",
       "      <th>end station longitude</th>\n",
       "      <th>bikeid</th>\n",
       "      <th>usertype</th>\n",
       "      <th>birth year</th>\n",
       "      <th>gender</th>\n",
       "    </tr>\n",
       "  </thead>\n",
       "  <tbody>\n",
       "    <tr>\n",
       "      <th>0</th>\n",
       "      <td>1397</td>\n",
       "      <td>2017-06-01 00:00:02</td>\n",
       "      <td>2017-06-01 00:23:19</td>\n",
       "      <td>515</td>\n",
       "      <td>W 43 St &amp; 10 Ave</td>\n",
       "      <td>40.760094</td>\n",
       "      <td>-73.994618</td>\n",
       "      <td>3285</td>\n",
       "      <td>W 87 St  &amp; Amsterdam Ave</td>\n",
       "      <td>40.788390</td>\n",
       "      <td>-73.974700</td>\n",
       "      <td>26642</td>\n",
       "      <td>Subscriber</td>\n",
       "      <td>1967.0</td>\n",
       "      <td>1</td>\n",
       "    </tr>\n",
       "    <tr>\n",
       "      <th>1</th>\n",
       "      <td>1103</td>\n",
       "      <td>2017-06-01 00:00:13</td>\n",
       "      <td>2017-06-01 00:18:37</td>\n",
       "      <td>488</td>\n",
       "      <td>W 39 St &amp; 9 Ave</td>\n",
       "      <td>40.756458</td>\n",
       "      <td>-73.993722</td>\n",
       "      <td>297</td>\n",
       "      <td>E 15 St &amp; 3 Ave</td>\n",
       "      <td>40.734232</td>\n",
       "      <td>-73.986923</td>\n",
       "      <td>25656</td>\n",
       "      <td>Subscriber</td>\n",
       "      <td>1981.0</td>\n",
       "      <td>1</td>\n",
       "    </tr>\n",
       "    <tr>\n",
       "      <th>2</th>\n",
       "      <td>1810</td>\n",
       "      <td>2017-06-01 00:00:20</td>\n",
       "      <td>2017-06-01 00:30:31</td>\n",
       "      <td>461</td>\n",
       "      <td>E 20 St &amp; 2 Ave</td>\n",
       "      <td>40.735877</td>\n",
       "      <td>-73.982050</td>\n",
       "      <td>465</td>\n",
       "      <td>Broadway &amp; W 41 St</td>\n",
       "      <td>40.755136</td>\n",
       "      <td>-73.986580</td>\n",
       "      <td>21023</td>\n",
       "      <td>Subscriber</td>\n",
       "      <td>1982.0</td>\n",
       "      <td>1</td>\n",
       "    </tr>\n",
       "    <tr>\n",
       "      <th>3</th>\n",
       "      <td>1760</td>\n",
       "      <td>2017-06-01 00:00:24</td>\n",
       "      <td>2017-06-01 00:29:45</td>\n",
       "      <td>2009</td>\n",
       "      <td>Catherine St &amp; Monroe St</td>\n",
       "      <td>40.711174</td>\n",
       "      <td>-73.996826</td>\n",
       "      <td>527</td>\n",
       "      <td>E 33 St &amp; 2 Ave</td>\n",
       "      <td>40.744023</td>\n",
       "      <td>-73.976056</td>\n",
       "      <td>25718</td>\n",
       "      <td>Subscriber</td>\n",
       "      <td>1973.0</td>\n",
       "      <td>2</td>\n",
       "    </tr>\n",
       "    <tr>\n",
       "      <th>4</th>\n",
       "      <td>2165</td>\n",
       "      <td>2017-06-01 00:00:33</td>\n",
       "      <td>2017-06-01 00:36:38</td>\n",
       "      <td>360</td>\n",
       "      <td>William St &amp; Pine St</td>\n",
       "      <td>40.707179</td>\n",
       "      <td>-74.008873</td>\n",
       "      <td>474</td>\n",
       "      <td>5 Ave &amp; E 29 St</td>\n",
       "      <td>40.745168</td>\n",
       "      <td>-73.986831</td>\n",
       "      <td>18691</td>\n",
       "      <td>Subscriber</td>\n",
       "      <td>1985.0</td>\n",
       "      <td>1</td>\n",
       "    </tr>\n",
       "  </tbody>\n",
       "</table>\n",
       "</div>"
      ],
      "text/plain": [
       "   tripduration            starttime             stoptime  start station id  \\\n",
       "0          1397  2017-06-01 00:00:02  2017-06-01 00:23:19               515   \n",
       "1          1103  2017-06-01 00:00:13  2017-06-01 00:18:37               488   \n",
       "2          1810  2017-06-01 00:00:20  2017-06-01 00:30:31               461   \n",
       "3          1760  2017-06-01 00:00:24  2017-06-01 00:29:45              2009   \n",
       "4          2165  2017-06-01 00:00:33  2017-06-01 00:36:38               360   \n",
       "\n",
       "         start station name  start station latitude  start station longitude  \\\n",
       "0          W 43 St & 10 Ave               40.760094               -73.994618   \n",
       "1           W 39 St & 9 Ave               40.756458               -73.993722   \n",
       "2           E 20 St & 2 Ave               40.735877               -73.982050   \n",
       "3  Catherine St & Monroe St               40.711174               -73.996826   \n",
       "4      William St & Pine St               40.707179               -74.008873   \n",
       "\n",
       "   end station id          end station name  end station latitude  \\\n",
       "0            3285  W 87 St  & Amsterdam Ave             40.788390   \n",
       "1             297           E 15 St & 3 Ave             40.734232   \n",
       "2             465        Broadway & W 41 St             40.755136   \n",
       "3             527           E 33 St & 2 Ave             40.744023   \n",
       "4             474           5 Ave & E 29 St             40.745168   \n",
       "\n",
       "   end station longitude  bikeid    usertype  birth year  gender  \n",
       "0             -73.974700   26642  Subscriber      1967.0       1  \n",
       "1             -73.986923   25656  Subscriber      1981.0       1  \n",
       "2             -73.986580   21023  Subscriber      1982.0       1  \n",
       "3             -73.976056   25718  Subscriber      1973.0       2  \n",
       "4             -73.986831   18691  Subscriber      1985.0       1  "
      ]
     },
     "execution_count": 118,
     "metadata": {},
     "output_type": "execute_result"
    }
   ],
   "source": [
    "import pandas as pd\n",
    "import numpy as np\n",
    "%matplotlib inline\n",
    "import matplotlib.pyplot as plt\n",
    "import scipy as sp\n",
    "\n",
    "\n",
    "df = pd.read_csv('/gws/open/Student/citibike/201706-citibike-tripdata.csv.zip')\n",
    "df.head()"
   ]
  },
  {
   "cell_type": "markdown",
   "metadata": {},
   "source": [
    "## Figure 1.\n",
    "The first 5 rows of the citibike trip data for June 2016."
   ]
  },
  {
   "cell_type": "code",
   "execution_count": 119,
   "metadata": {
    "collapsed": false
   },
   "outputs": [
    {
     "data": {
      "text/html": [
       "<div>\n",
       "<table border=\"1\" class=\"dataframe\">\n",
       "  <thead>\n",
       "    <tr style=\"text-align: right;\">\n",
       "      <th></th>\n",
       "      <th>tripduration</th>\n",
       "      <th>starttime</th>\n",
       "      <th>stoptime</th>\n",
       "    </tr>\n",
       "  </thead>\n",
       "  <tbody>\n",
       "    <tr>\n",
       "      <th>0</th>\n",
       "      <td>1397</td>\n",
       "      <td>2017-06-01 00:00:02</td>\n",
       "      <td>2017-06-01 00:23:19</td>\n",
       "    </tr>\n",
       "    <tr>\n",
       "      <th>1</th>\n",
       "      <td>1103</td>\n",
       "      <td>2017-06-01 00:00:13</td>\n",
       "      <td>2017-06-01 00:18:37</td>\n",
       "    </tr>\n",
       "    <tr>\n",
       "      <th>2</th>\n",
       "      <td>1810</td>\n",
       "      <td>2017-06-01 00:00:20</td>\n",
       "      <td>2017-06-01 00:30:31</td>\n",
       "    </tr>\n",
       "    <tr>\n",
       "      <th>3</th>\n",
       "      <td>1760</td>\n",
       "      <td>2017-06-01 00:00:24</td>\n",
       "      <td>2017-06-01 00:29:45</td>\n",
       "    </tr>\n",
       "    <tr>\n",
       "      <th>4</th>\n",
       "      <td>2165</td>\n",
       "      <td>2017-06-01 00:00:33</td>\n",
       "      <td>2017-06-01 00:36:38</td>\n",
       "    </tr>\n",
       "  </tbody>\n",
       "</table>\n",
       "</div>"
      ],
      "text/plain": [
       "   tripduration            starttime             stoptime\n",
       "0          1397  2017-06-01 00:00:02  2017-06-01 00:23:19\n",
       "1          1103  2017-06-01 00:00:13  2017-06-01 00:18:37\n",
       "2          1810  2017-06-01 00:00:20  2017-06-01 00:30:31\n",
       "3          1760  2017-06-01 00:00:24  2017-06-01 00:29:45\n",
       "4          2165  2017-06-01 00:00:33  2017-06-01 00:36:38"
      ]
     },
     "execution_count": 119,
     "metadata": {},
     "output_type": "execute_result"
    }
   ],
   "source": [
    "df.drop(['start station id',\n",
    "       'start station name', 'start station latitude',\n",
    "       'start station longitude', 'end station id', 'end station name',\n",
    "       'end station latitude', 'end station longitude', 'bikeid', 'usertype',\n",
    "       'birth year', 'gender'], axis=1, inplace=True)\n",
    "df.head()"
   ]
  },
  {
   "cell_type": "markdown",
   "metadata": {},
   "source": [
    "## Figure 2.\n",
    "The first 5 rows of the June 2016 citibike trip data redacted to include only data related to\n",
    "trip duration and time of day. "
   ]
  },
  {
   "cell_type": "code",
   "execution_count": 120,
   "metadata": {
    "collapsed": false
   },
   "outputs": [
    {
     "data": {
      "text/html": [
       "<div>\n",
       "<table border=\"1\" class=\"dataframe\">\n",
       "  <thead>\n",
       "    <tr style=\"text-align: right;\">\n",
       "      <th></th>\n",
       "      <th>tripduration</th>\n",
       "      <th>starttime</th>\n",
       "      <th>stoptime</th>\n",
       "      <th>tripduration_minutes</th>\n",
       "    </tr>\n",
       "  </thead>\n",
       "  <tbody>\n",
       "    <tr>\n",
       "      <th>0</th>\n",
       "      <td>1397</td>\n",
       "      <td>2017-06-01 00:00:02</td>\n",
       "      <td>2017-06-01 00:23:19</td>\n",
       "      <td>23.283333</td>\n",
       "    </tr>\n",
       "    <tr>\n",
       "      <th>1</th>\n",
       "      <td>1103</td>\n",
       "      <td>2017-06-01 00:00:13</td>\n",
       "      <td>2017-06-01 00:18:37</td>\n",
       "      <td>18.383333</td>\n",
       "    </tr>\n",
       "    <tr>\n",
       "      <th>2</th>\n",
       "      <td>1810</td>\n",
       "      <td>2017-06-01 00:00:20</td>\n",
       "      <td>2017-06-01 00:30:31</td>\n",
       "      <td>30.166667</td>\n",
       "    </tr>\n",
       "    <tr>\n",
       "      <th>3</th>\n",
       "      <td>1760</td>\n",
       "      <td>2017-06-01 00:00:24</td>\n",
       "      <td>2017-06-01 00:29:45</td>\n",
       "      <td>29.333333</td>\n",
       "    </tr>\n",
       "    <tr>\n",
       "      <th>4</th>\n",
       "      <td>2165</td>\n",
       "      <td>2017-06-01 00:00:33</td>\n",
       "      <td>2017-06-01 00:36:38</td>\n",
       "      <td>36.083333</td>\n",
       "    </tr>\n",
       "  </tbody>\n",
       "</table>\n",
       "</div>"
      ],
      "text/plain": [
       "   tripduration            starttime             stoptime  \\\n",
       "0          1397  2017-06-01 00:00:02  2017-06-01 00:23:19   \n",
       "1          1103  2017-06-01 00:00:13  2017-06-01 00:18:37   \n",
       "2          1810  2017-06-01 00:00:20  2017-06-01 00:30:31   \n",
       "3          1760  2017-06-01 00:00:24  2017-06-01 00:29:45   \n",
       "4          2165  2017-06-01 00:00:33  2017-06-01 00:36:38   \n",
       "\n",
       "   tripduration_minutes  \n",
       "0             23.283333  \n",
       "1             18.383333  \n",
       "2             30.166667  \n",
       "3             29.333333  \n",
       "4             36.083333  "
      ]
     },
     "execution_count": 120,
     "metadata": {},
     "output_type": "execute_result"
    }
   ],
   "source": [
    "df[\"tripduration_minutes\"] = df[\"tripduration\"]/60\n",
    "df.head()"
   ]
  },
  {
   "cell_type": "code",
   "execution_count": 121,
   "metadata": {
    "collapsed": false
   },
   "outputs": [
    {
     "data": {
      "text/plain": [
       "<matplotlib.text.Text at 0x7f2e56788f10>"
      ]
     },
     "execution_count": 121,
     "metadata": {},
     "output_type": "execute_result"
    },
    {
     "data": {
      "image/png": "[encoded data removed]",
      "text/plain": [
       "<matplotlib.figure.Figure at 0x7f2e56e144d0>"
      ]
     },
     "metadata": {},
     "output_type": "display_data"
    }
   ],
   "source": [
    "plt.hist(df['tripduration_minutes'])\n",
    "plt.title(\"Histogram of Citibike Trip Durations in June 2017\")\n",
    "plt.xlabel(\"Trip Duration in Minutes\")\n",
    "plt.ylabel(\"Number of Trips\")"
   ]
  },
  {
   "cell_type": "markdown",
   "metadata": {},
   "source": [
    "## Figure 3. \n",
    "The Distribution of Trip Durations"
   ]
  },
  {
   "cell_type": "code",
   "execution_count": 122,
   "metadata": {
    "collapsed": false
   },
   "outputs": [],
   "source": [
    "## Eliminating outliers\n",
    "q = df[\"tripduration_minutes\"].quantile(0.99)\n",
    "df99 = df[df[\"tripduration_minutes\"] < q]"
   ]
  },
  {
   "cell_type": "code",
   "execution_count": 123,
   "metadata": {
    "collapsed": false
   },
   "outputs": [
    {
     "data": {
      "text/plain": [
       "<matplotlib.text.Text at 0x7f2e50a132d0>"
      ]
     },
     "execution_count": 123,
     "metadata": {},
     "output_type": "execute_result"
    },
    {
     "data": {
      "image/png": "[encoded data removed]",
      "text/plain": [
       "<matplotlib.figure.Figure at 0x7f2e50a6fdd0>"
      ]
     },
     "metadata": {},
     "output_type": "display_data"
    }
   ],
   "source": [
    "plt.figure(figsize=(12,8))\n",
    "plt.hist(df99[\"tripduration_minutes\"])\n",
    "plt.title(\"Histogram of Citibike Trip Durations in June 2017\",fontsize=20)\n",
    "plt.xlabel(\"Trip Duration in Minutes\",fontsize=16)\n",
    "plt.ylabel(\"Number of Trips\",fontsize=16)\n"
   ]
  },
  {
   "cell_type": "markdown",
   "metadata": {},
   "source": [
    "## Figure 4.\n",
    "The distribution of trip durations, excluding the top .01 quantile"
   ]
  },
  {
   "cell_type": "code",
   "execution_count": 124,
   "metadata": {
    "collapsed": false,
    "scrolled": true
   },
   "outputs": [
    {
     "name": "stderr",
     "output_type": "stream",
     "text": [
      "/opt/rh/anaconda/root/envs/PUI2016_Python2/lib/python2.7/site-packages/ipykernel/__main__.py:2: SettingWithCopyWarning: \n",
      "A value is trying to be set on a copy of a slice from a DataFrame.\n",
      "Try using .loc[row_indexer,col_indexer] = value instead\n",
      "\n",
      "See the caveats in the documentation: http://pandas.pydata.org/pandas-docs/stable/indexing.html#indexing-view-versus-copy\n",
      "  from ipykernel import kernelapp as app\n"
     ]
    }
   ],
   "source": [
    "# Grouping by hour and average trip duration\n",
    "df99[\"starthour\"] = df99['starttime'].str[11:13]\n",
    "df_byhour = df99.groupby(df99['starthour'])['tripduration_minutes'].mean()\n",
    "df_byhour = df_byhour.reset_index()"
   ]
  },
  {
   "cell_type": "code",
   "execution_count": 125,
   "metadata": {
    "collapsed": false
   },
   "outputs": [
    {
     "data": {
      "text/plain": [
       "[0, 23, 10, 15]"
      ]
     },
     "execution_count": 125,
     "metadata": {},
     "output_type": "execute_result"
    },
    {
     "data": {
      "image/png": "[encoded data removed]",
      "text/plain": [
       "<matplotlib.figure.Figure at 0x7f2e509f2210>"
      ]
     },
     "metadata": {},
     "output_type": "display_data"
    }
   ],
   "source": [
    "plt.figure(figsize=(12,8))\n",
    "plt.plot(df_byhour['starthour'],df_byhour['tripduration_minutes'])\n",
    "plt.xlabel(\"Hour of the Day\",fontsize=16)\n",
    "plt.ylabel(\"Average Trip Duration in Minutes\",fontsize=16)\n",
    "plt.title(\"Average Trip Duration Over a Day\",fontsize=20)\n",
    "plt.axis([0,23,10,15])"
   ]
  },
  {
   "cell_type": "markdown",
   "metadata": {},
   "source": [
    "## Figure 5.\n",
    "\n",
    "Trip durations for each day in June 2016, averaged over the course of 24 hours"
   ]
  },
  {
   "cell_type": "code",
   "execution_count": 126,
   "metadata": {
    "collapsed": false
   },
   "outputs": [
    {
     "data": {
      "text/html": [
       "<div>\n",
       "<table border=\"1\" class=\"dataframe\">\n",
       "  <thead>\n",
       "    <tr style=\"text-align: right;\">\n",
       "      <th></th>\n",
       "      <th>tripduration</th>\n",
       "      <th>starttime</th>\n",
       "      <th>stoptime</th>\n",
       "      <th>tripduration_minutes</th>\n",
       "      <th>starthour</th>\n",
       "    </tr>\n",
       "  </thead>\n",
       "  <tbody>\n",
       "    <tr>\n",
       "      <th>0</th>\n",
       "      <td>1397</td>\n",
       "      <td>2017-06-01 00:00:02</td>\n",
       "      <td>2017-06-01 00:23:19</td>\n",
       "      <td>23.283333</td>\n",
       "      <td>00</td>\n",
       "    </tr>\n",
       "    <tr>\n",
       "      <th>1</th>\n",
       "      <td>1103</td>\n",
       "      <td>2017-06-01 00:00:13</td>\n",
       "      <td>2017-06-01 00:18:37</td>\n",
       "      <td>18.383333</td>\n",
       "      <td>00</td>\n",
       "    </tr>\n",
       "    <tr>\n",
       "      <th>2</th>\n",
       "      <td>1810</td>\n",
       "      <td>2017-06-01 00:00:20</td>\n",
       "      <td>2017-06-01 00:30:31</td>\n",
       "      <td>30.166667</td>\n",
       "      <td>00</td>\n",
       "    </tr>\n",
       "    <tr>\n",
       "      <th>3</th>\n",
       "      <td>1760</td>\n",
       "      <td>2017-06-01 00:00:24</td>\n",
       "      <td>2017-06-01 00:29:45</td>\n",
       "      <td>29.333333</td>\n",
       "      <td>00</td>\n",
       "    </tr>\n",
       "    <tr>\n",
       "      <th>4</th>\n",
       "      <td>2165</td>\n",
       "      <td>2017-06-01 00:00:33</td>\n",
       "      <td>2017-06-01 00:36:38</td>\n",
       "      <td>36.083333</td>\n",
       "      <td>00</td>\n",
       "    </tr>\n",
       "  </tbody>\n",
       "</table>\n",
       "</div>"
      ],
      "text/plain": [
       "   tripduration            starttime             stoptime  \\\n",
       "0          1397  2017-06-01 00:00:02  2017-06-01 00:23:19   \n",
       "1          1103  2017-06-01 00:00:13  2017-06-01 00:18:37   \n",
       "2          1810  2017-06-01 00:00:20  2017-06-01 00:30:31   \n",
       "3          1760  2017-06-01 00:00:24  2017-06-01 00:29:45   \n",
       "4          2165  2017-06-01 00:00:33  2017-06-01 00:36:38   \n",
       "\n",
       "   tripduration_minutes starthour  \n",
       "0             23.283333        00  \n",
       "1             18.383333        00  \n",
       "2             30.166667        00  \n",
       "3             29.333333        00  \n",
       "4             36.083333        00  "
      ]
     },
     "execution_count": 126,
     "metadata": {},
     "output_type": "execute_result"
    }
   ],
   "source": [
    "df99.head()"
   ]
  },
  {
   "cell_type": "code",
   "execution_count": 127,
   "metadata": {
    "collapsed": false
   },
   "outputs": [
    {
     "name": "stdout",
     "output_type": "stream",
     "text": [
      "('Comparing hour 8 and hour 0: ', MannwhitneyuResult(statistic=1138661364.5, pvalue=1.195910176375034e-07))\n",
      "('Comparing hour 8 and hour 1: ', MannwhitneyuResult(statistic=585445407.0, pvalue=1.8023001527981013e-08))\n",
      "('Comparing hour 8 and hour 2: ', MannwhitneyuResult(statistic=337317532.5, pvalue=9.5728929468169698e-09))\n",
      "('Comparing hour 8 and hour 3: ', MannwhitneyuResult(statistic=212978025.5, pvalue=3.9871168548365576e-16))\n",
      "('Comparing hour 8 and hour 4: ', MannwhitneyuResult(statistic=214666338.0, pvalue=3.6568036716980996e-45))\n",
      "('Comparing hour 8 and hour 5: ', MannwhitneyuResult(statistic=810788408.0, pvalue=1.4401957598586976e-267))\n",
      "('Comparing hour 8 and hour 6: ', MannwhitneyuResult(statistic=2891852072.0, pvalue=0.0))\n",
      "('Comparing hour 8 and hour 7: ', MannwhitneyuResult(statistic=5325044703.5, pvalue=1.1114744521241503e-117))\n",
      "('Comparing hour 8 and hour 8: ', MannwhitneyuResult(statistic=8570677812.5, pvalue=0.50000001031385755))\n",
      "('Comparing hour 8 and hour 9: ', MannwhitneyuResult(statistic=7137753416.0, pvalue=1.3636842496296764e-43))\n",
      "('Comparing hour 8 and hour 10: ', MannwhitneyuResult(statistic=4880655658.5, pvalue=0.99797109351613789))\n",
      "('Comparing hour 8 and hour 11: ', MannwhitneyuResult(statistic=4978453238.5, pvalue=1.0))\n",
      "('Comparing hour 8 and hour 12: ', MannwhitneyuResult(statistic=5576635683.0, pvalue=1.0))\n",
      "('Comparing hour 8 and hour 13: ', MannwhitneyuResult(statistic=5714300996.5, pvalue=1.0))\n",
      "('Comparing hour 8 and hour 14: ', MannwhitneyuResult(statistic=5872406136.0, pvalue=1.0))\n",
      "('Comparing hour 8 and hour 15: ', MannwhitneyuResult(statistic=6127350189.5, pvalue=1.0))\n",
      "('Comparing hour 8 and hour 16: ', MannwhitneyuResult(statistic=7368854558.5, pvalue=1.0))\n",
      "('Comparing hour 8 and hour 17: ', MannwhitneyuResult(statistic=10251694425.0, pvalue=1.0))\n",
      "('Comparing hour 8 and hour 18: ', MannwhitneyuResult(statistic=9961721851.5, pvalue=1.0))\n",
      "('Comparing hour 8 and hour 19: ', MannwhitneyuResult(statistic=7384396909.5, pvalue=1.0))\n",
      "('Comparing hour 8 and hour 20: ', MannwhitneyuResult(statistic=5241363915.0, pvalue=1.0))\n",
      "('Comparing hour 8 and hour 21: ', MannwhitneyuResult(statistic=3708289660.0, pvalue=0.999999999999998))\n",
      "('Comparing hour 8 and hour 22: ', MannwhitneyuResult(statistic=2863088035.0, pvalue=0.99998126831035716))\n",
      "('Comparing hour 8 and hour 23: ', MannwhitneyuResult(statistic=1928079302.0, pvalue=0.015232111702481451))\n"
     ]
    }
   ],
   "source": [
    "for i in range(24):\n",
    "    print(\"Comparing hour 8 and hour \"+ str(i)+\": \",\\\n",
    "          sp.stats.mannwhitneyu(df99.loc[df99['starthour'] == '08', 'tripduration'],\\\n",
    "                             df99.loc[df99['starthour'] == str(i).zfill(2), 'tripduration'],alternative='greater'))"
   ]
  },
  {
   "cell_type": "code",
   "execution_count": 128,
   "metadata": {
    "collapsed": false
   },
   "outputs": [
    {
     "name": "stdout",
     "output_type": "stream",
     "text": [
      "('Comparing hour 17 and hour 0: ', MannwhitneyuResult(statistic=1599840153.0, pvalue=2.3787972547261365e-110))\n",
      "('Comparing hour 17 and hour 1: ', MannwhitneyuResult(statistic=821355832.0, pvalue=1.0491990758321486e-71))\n",
      "('Comparing hour 17 and hour 2: ', MannwhitneyuResult(statistic=472156233.0, pvalue=4.2771851255923076e-50))\n",
      "('Comparing hour 17 and hour 3: ', MannwhitneyuResult(statistic=297030845.0, pvalue=3.372318595112662e-52))\n",
      "('Comparing hour 17 and hour 4: ', MannwhitneyuResult(statistic=297355548.0, pvalue=4.4318786926916161e-95))\n",
      "('Comparing hour 17 and hour 5: ', MannwhitneyuResult(statistic=1121403739.5, pvalue=0.0))\n",
      "('Comparing hour 17 and hour 6: ', MannwhitneyuResult(statistic=4017485614.5, pvalue=0.0))\n",
      "('Comparing hour 17 and hour 7: ', MannwhitneyuResult(statistic=7469458782.0, pvalue=0.0))\n",
      "('Comparing hour 17 and hour 8: ', MannwhitneyuResult(statistic=12103356550.0, pvalue=0.0))\n",
      "('Comparing hour 17 and hour 9: ', MannwhitneyuResult(statistic=10043669041.0, pvalue=0.0))\n",
      "('Comparing hour 17 and hour 10: ', MannwhitneyuResult(statistic=6877040631.0, pvalue=7.8699231686587666e-180))\n",
      "('Comparing hour 17 and hour 11: ', MannwhitneyuResult(statistic=7030121968.0, pvalue=6.492671675765691e-53))\n",
      "('Comparing hour 17 and hour 12: ', MannwhitneyuResult(statistic=7864309421.0, pvalue=3.707654146204464e-86))\n",
      "('Comparing hour 17 and hour 13: ', MannwhitneyuResult(statistic=8065371316.0, pvalue=1.9897234171728701e-65))\n",
      "('Comparing hour 17 and hour 14: ', MannwhitneyuResult(statistic=8309996452.5, pvalue=2.794145155381375e-21))\n",
      "('Comparing hour 17 and hour 15: ', MannwhitneyuResult(statistic=8687989906.0, pvalue=0.0047215367854910647))\n",
      "('Comparing hour 17 and hour 16: ', MannwhitneyuResult(statistic=10447464886.0, pvalue=3.4541383865522748e-13))\n",
      "('Comparing hour 17 and hour 17: ', MannwhitneyuResult(statistic=14577269004.5, pvalue=0.50000000692509183))\n",
      "('Comparing hour 17 and hour 18: ', MannwhitneyuResult(statistic=14131266586.0, pvalue=8.7427352619514117e-13))\n",
      "('Comparing hour 17 and hour 19: ', MannwhitneyuResult(statistic=10441764419.0, pvalue=7.2259357650981142e-61))\n",
      "('Comparing hour 17 and hour 20: ', MannwhitneyuResult(statistic=7403130210.5, pvalue=9.9023181129564e-77))\n",
      "('Comparing hour 17 and hour 21: ', MannwhitneyuResult(statistic=5233851155.0, pvalue=2.0722777690280363e-96))\n",
      "('Comparing hour 17 and hour 22: ', MannwhitneyuResult(statistic=4038590847.5, pvalue=9.8420439896433219e-107))\n",
      "('Comparing hour 17 and hour 23: ', MannwhitneyuResult(statistic=2712594906.0, pvalue=6.4902214946602126e-127))\n"
     ]
    }
   ],
   "source": [
    "for i in range(24):\n",
    "    print(\"Comparing hour 17 and hour \"+ str(i)+\": \",\\\n",
    "          sp.stats.mannwhitneyu(df99.loc[df99['starthour'] == '17', 'tripduration'],\\\n",
    "                             df99.loc[df99['starthour'] == str(i).zfill(2), 'tripduration'],alternative='greater'))"
   ]
  },
  {
   "cell_type": "code",
   "execution_count": null,
   "metadata": {
    "collapsed": true
   },
   "outputs": [],
   "source": []
  }
 ],
 "metadata": {
  "kernelspec": {
   "display_name": "PUI2016_Python2",
   "language": "python",
   "name": "pui2016_python2"
  },
  "language_info": {
   "codemirror_mode": {
    "name": "ipython",
    "version": 2
   },
   "file_extension": ".py",
   "mimetype": "text/x-python",
   "name": "python",
   "nbconvert_exporter": "python",
   "pygments_lexer": "ipython2",
   "version": "2.7.12"
  }
 },
 "nbformat": 4,
 "nbformat_minor": 0
}
