{
 "cells": [
  {
   "cell_type": "code",
   "execution_count": 46,
   "metadata": {
    "collapsed": false
   },
   "outputs": [
    {
     "name": "stdout",
     "output_type": "stream",
     "text": [
      "Populating the interactive namespace from numpy and matplotlib\n"
     ]
    }
   ],
   "source": [
    "import numpy as np\n",
    "import pylab as pl\n",
    "import statsmodels.api as sm\n",
    "import scipy as sp\n",
    "import matplotlib.pyplot as plt\n",
    "import scipy.stats  \n",
    "\n",
    "%pylab inline"
   ]
  },
  {
   "cell_type": "code",
   "execution_count": 47,
   "metadata": {
    "collapsed": false
   },
   "outputs": [
    {
     "data": {
      "text/plain": [
       "<matplotlib.text.Text at 0x7f642742f320>"
      ]
     },
     "execution_count": 47,
     "metadata": {},
     "output_type": "execute_result"
    },
    {
     "data": {
      "image/png": "[encoded data removed]",
      "text/plain": [
       "<matplotlib.figure.Figure at 0x7f64274bcd30>"
      ]
     },
     "metadata": {},
     "output_type": "display_data"
    }
   ],
   "source": [
    "np.random.seed(14)\n",
    "mean1 = 500\n",
    "stdev = 9\n",
    "Nsamples = 100\n",
    "nit = 1000\n",
    "\n",
    "\n",
    "x = sp.stats.poisson.rvs(mean1,size=Nsamples)\n",
    "pl.hist(x)\n",
    "\n",
    "xlabel('X Values')\n",
    "ylabel('Number of Samples')\n",
    "title('Poisson Distribution')\n",
    "\n",
    "#Plot the original distribution"
   ]
  },
  {
   "cell_type": "markdown",
   "metadata": {},
   "source": [
    "## Figure 1. Plotting 100 random samples in a Poisson Distribution with a Mean of 500"
   ]
  },
  {
   "cell_type": "code",
   "execution_count": 48,
   "metadata": {
    "collapsed": false
   },
   "outputs": [
    {
     "data": {
      "text/plain": [
       "array([501, 529, 501, 502, 522, 502, 511, 542, 517, 529, 487, 511, 513,\n",
       "       477, 532, 517, 516, 494, 497, 490, 491, 486, 476, 471, 468, 497,\n",
       "       508, 473, 469, 497, 516, 485, 500, 509, 495, 462, 481, 562, 516,\n",
       "       464, 496, 511, 496, 508, 482, 462, 486, 475, 487, 516, 484, 535,\n",
       "       460, 532, 479, 494, 471, 492, 471, 548, 474, 508, 495, 478, 494,\n",
       "       507, 500, 516, 480, 496, 510, 522, 500, 507, 504, 501, 519, 509,\n",
       "       484, 496, 504, 553, 481, 496, 505, 494, 473, 493, 521, 439, 481,\n",
       "       512, 513, 530, 504, 522, 488, 523, 465, 545])"
      ]
     },
     "execution_count": 48,
     "metadata": {},
     "output_type": "execute_result"
    }
   ],
   "source": [
    "x"
   ]
  },
  {
   "cell_type": "code",
   "execution_count": 69,
   "metadata": {
    "collapsed": false
   },
   "outputs": [
    {
     "data": {
      "text/plain": [
       "<matplotlib.text.Text at 0x7f6426fe96a0>"
      ]
     },
     "execution_count": 69,
     "metadata": {},
     "output_type": "execute_result"
    },
    {
     "data": {
      "image/png": "[encoded data removed]",
      "text/plain": [
       "<matplotlib.figure.Figure at 0x7f64270c0c88>"
      ]
     },
     "metadata": {},
     "output_type": "display_data"
    }
   ],
   "source": [
    "myDmeans = np.zeros(nit)\n",
    "myStDevs = np.zeros(nit)\n",
    "zs = np.zeros(nit)\n",
    "\n",
    "for i in range(nit):\n",
    "    mydistrib = sp.stats.poisson.rvs(mean1,size=Nsamples)\n",
    "    myDmeans[i] = mydistrib.mean()\n",
    "    myStDevs[i] = np.std(mydistrib)\n",
    "    zs[i] = (myDmeans[i] - mean1) * np.sqrt(Nsamples) / myStDevs[i]\n",
    "    \n",
    "pl.hist(mydistrib)\n",
    "title('One Poisson Sample')\n",
    "xlabel('X Values')\n",
    "ylabel('Number of Occurences')"
   ]
  },
  {
   "cell_type": "markdown",
   "metadata": {},
   "source": [
    "## Fig 2. Plotting One of the Poisson Samples"
   ]
  },
  {
   "cell_type": "code",
   "execution_count": 67,
   "metadata": {
    "collapsed": false
   },
   "outputs": [
    {
     "data": {
      "text/plain": [
       "<matplotlib.text.Text at 0x7f642724c668>"
      ]
     },
     "execution_count": 67,
     "metadata": {},
     "output_type": "execute_result"
    },
    {
     "data": {
      "image/png": "[encoded data removed]",
      "text/plain": [
       "<matplotlib.figure.Figure at 0x7f64274c9fd0>"
      ]
     },
     "metadata": {},
     "output_type": "display_data"
    }
   ],
   "source": [
    "#zs = (myDmeans - mean1) * np.sqrt(Nsamples) / \n",
    "pl.hist(zs)\n",
    "title('Distribution of Z Statistics')\n",
    "xlabel('Z Statistic')\n",
    "ylabel('Count')\n",
    "\n",
    "#x = np.linspace(xmin, xmax, 100)\n",
    "#y = norm.pdf(x, mean1, stdev)\n",
    "#plt.plot(x, y)"
   ]
  },
  {
   "cell_type": "markdown",
   "metadata": {},
   "source": [
    "## Fig 3. The Distribution of Z Statistics of Each Poisson Sample"
   ]
  },
  {
   "cell_type": "code",
   "execution_count": 68,
   "metadata": {
    "collapsed": false,
    "scrolled": true
   },
   "outputs": [
    {
     "name": "stdout",
     "output_type": "stream",
     "text": [
      "Z Scores vs normal distribution KstestResult(statistic=0.01810982836671382, pvalue=0.89825769183085358)\n"
     ]
    }
   ],
   "source": [
    "print (\"Z Scores vs normal distribution\", scipy.stats.kstest(zs,'norm'))"
   ]
  },
  {
   "cell_type": "markdown",
   "metadata": {},
   "source": [
    "The high p-value means the null hypothesis is not rejected, and the Z scores are likely drawn from the same distribution as a normal distribution."
   ]
  },
  {
   "cell_type": "code",
   "execution_count": 82,
   "metadata": {
    "collapsed": false
   },
   "outputs": [
    {
     "data": {
      "text/plain": [
       "(array([ 0.00149532,  0.01943917,  0.04934558,  0.14355077,  0.29457814,\n",
       "         0.36336289,  0.32149391,  0.21084019,  0.07626135,  0.01495321]),\n",
       " array([-3.75811919, -3.08936625, -2.42061331, -1.75186037, -1.08310743,\n",
       "        -0.41435449,  0.25439845,  0.92315139,  1.59190433,  2.26065727,\n",
       "         2.92941021]),\n",
       " <a list of 10 Patch objects>)"
      ]
     },
     "execution_count": 82,
     "metadata": {},
     "output_type": "execute_result"
    },
    {
     "data": {
      "image/png": "[encoded data removed]",
      "text/plain": [
       "<matplotlib.figure.Figure at 0x7f6426c17908>"
      ]
     },
     "metadata": {},
     "output_type": "display_data"
    }
   ],
   "source": [
    "# Fit a normal distribution to the data:\n",
    "mu, std = scipy.stats.norm.fit(zs)\n",
    "\n",
    "# Plot the PDF.\n",
    "xmin, xmax = -5,5\n",
    "x = np.linspace(xmin, xmax, 100)\n",
    "p = scipy.stats.norm.pdf(x, mu, std)\n",
    "plt.plot(x, p, 'k', linewidth=2)\n",
    "title = \"Fit results: mu = %.2f,  std = %.2f\" % (mu, std)\n",
    "plt.title(title)\n",
    "xlabel('Z Statistic')\n",
    "ylabel('Count')\n",
    "pl.hist(zs,normed=1)\n"
   ]
  },
  {
   "cell_type": "markdown",
   "metadata": {
    "collapsed": true
   },
   "source": [
    "## Figure 4. The Distribution of Z Scores fitted with a normal distribution."
   ]
  },
  {
   "cell_type": "code",
   "execution_count": null,
   "metadata": {
    "collapsed": true
   },
   "outputs": [],
   "source": []
  }
 ],
 "metadata": {
  "kernelspec": {
   "display_name": "PUI2016_Python3",
   "language": "python",
   "name": "pui2016_python3"
  },
  "language_info": {
   "codemirror_mode": {
    "name": "ipython",
    "version": 3
   },
   "file_extension": ".py",
   "mimetype": "text/x-python",
   "name": "python",
   "nbconvert_exporter": "python",
   "pygments_lexer": "ipython3",
   "version": "3.5.4"
  }
 },
 "nbformat": 4,
 "nbformat_minor": 0
}
