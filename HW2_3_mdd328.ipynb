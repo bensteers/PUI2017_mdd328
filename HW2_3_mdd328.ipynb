{
 "cells": [
  {
   "cell_type": "code",
   "execution_count": 12,
   "metadata": {
    "collapsed": false
   },
   "outputs": [
    {
     "name": "stdout",
     "output_type": "stream",
     "text": [
      "Populating the interactive namespace from numpy and matplotlib\n",
      "/gws/open/NYCOpenData/nycopendata/data\n"
     ]
    }
   ],
   "source": [
    "import os\n",
    "import sys\n",
    "%pylab inline\n",
    "\n",
    "# Check that an environmental variable DFDATA exists and that it\n",
    "# points to the data facility location /gws/open/NYCOpenData/nycopendata/data/\n",
    "\n",
    "print os.environ['DFDATA']"
   ]
  },
  {
   "cell_type": "code",
   "execution_count": 13,
   "metadata": {
    "collapsed": false
   },
   "outputs": [
    {
     "data": {
      "text/html": [
       "<div>\n",
       "<table border=\"1\" class=\"dataframe\">\n",
       "  <thead>\n",
       "    <tr style=\"text-align: right;\">\n",
       "      <th></th>\n",
       "      <th>Basin</th>\n",
       "      <th>Reservoir Acres</th>\n",
       "      <th>Basin Acres (land only)</th>\n",
       "      <th>Total Acres</th>\n",
       "      <th>Reservoir Shoreline Miles</th>\n",
       "      <th>Stream Miles</th>\n",
       "      <th>100 ft. Riparian Buffer*** Acres</th>\n",
       "    </tr>\n",
       "  </thead>\n",
       "  <tbody>\n",
       "    <tr>\n",
       "      <th>0</th>\n",
       "      <td>Basin</td>\n",
       "      <td>NaN</td>\n",
       "      <td>NaN</td>\n",
       "      <td>NaN</td>\n",
       "      <td>NaN</td>\n",
       "      <td>NaN</td>\n",
       "      <td>NaN</td>\n",
       "    </tr>\n",
       "    <tr>\n",
       "      <th>1</th>\n",
       "      <td>Ashokan</td>\n",
       "      <td>8106.5</td>\n",
       "      <td>155299.0</td>\n",
       "      <td>163405.5</td>\n",
       "      <td>53.2</td>\n",
       "      <td>485.4</td>\n",
       "      <td>11384.2</td>\n",
       "    </tr>\n",
       "    <tr>\n",
       "      <th>2</th>\n",
       "      <td>Cannonsville</td>\n",
       "      <td>4712.7</td>\n",
       "      <td>286364.6</td>\n",
       "      <td>291077.3</td>\n",
       "      <td>56.2</td>\n",
       "      <td>802.6</td>\n",
       "      <td>18782.6</td>\n",
       "    </tr>\n",
       "    <tr>\n",
       "      <th>3</th>\n",
       "      <td>Neversink</td>\n",
       "      <td>1492.8</td>\n",
       "      <td>57409.4</td>\n",
       "      <td>58902.2</td>\n",
       "      <td>18.6</td>\n",
       "      <td>229.9</td>\n",
       "      <td>5389.6</td>\n",
       "    </tr>\n",
       "    <tr>\n",
       "      <th>4</th>\n",
       "      <td>Pepacton</td>\n",
       "      <td>5193.7</td>\n",
       "      <td>232278.5</td>\n",
       "      <td>237472.2</td>\n",
       "      <td>53.2</td>\n",
       "      <td>664.6</td>\n",
       "      <td>15711.4</td>\n",
       "    </tr>\n",
       "  </tbody>\n",
       "</table>\n",
       "</div>"
      ],
      "text/plain": [
       "          Basin  Reservoir Acres  Basin Acres (land only)  Total Acres  \\\n",
       "0         Basin              NaN                      NaN          NaN   \n",
       "1       Ashokan           8106.5                 155299.0     163405.5   \n",
       "2  Cannonsville           4712.7                 286364.6     291077.3   \n",
       "3     Neversink           1492.8                  57409.4      58902.2   \n",
       "4      Pepacton           5193.7                 232278.5     237472.2   \n",
       "\n",
       "   Reservoir Shoreline Miles  Stream Miles  100 ft. Riparian Buffer*** Acres  \n",
       "0                        NaN           NaN                               NaN  \n",
       "1                       53.2         485.4                           11384.2  \n",
       "2                       56.2         802.6                           18782.6  \n",
       "3                       18.6         229.9                            5389.6  \n",
       "4                       53.2         664.6                           15711.4  "
      ]
     },
     "execution_count": 13,
     "metadata": {},
     "output_type": "execute_result"
    }
   ],
   "source": [
    "from pandas import Series, DataFrame\n",
    "import pandas\n",
    "import pandas as pd\n",
    "\n",
    "\n",
    "# read in CSV file from the DF into a pandas dataframe\n",
    "DFDATA = os.environ['DFDATA']\n",
    "\n",
    "df_hydro = pd.read_csv(DFDATA + \"/9vgt-yx2p/1414245743/9vgt-yx2p\")\n",
    "df_hydro.head()"
   ]
  },
  {
   "cell_type": "markdown",
   "metadata": {},
   "source": [
    "## Table 1:\n",
    "\n",
    "The top few rows of the hydrostatistics dataset"
   ]
  },
  {
   "cell_type": "code",
   "execution_count": 15,
   "metadata": {
    "collapsed": false
   },
   "outputs": [
    {
     "data": {
      "text/html": [
       "<div>\n",
       "<table border=\"1\" class=\"dataframe\">\n",
       "  <thead>\n",
       "    <tr style=\"text-align: right;\">\n",
       "      <th></th>\n",
       "      <th>Basin</th>\n",
       "      <th>Reservoir Acres</th>\n",
       "      <th>Reservoir Shoreline Miles</th>\n",
       "    </tr>\n",
       "  </thead>\n",
       "  <tbody>\n",
       "    <tr>\n",
       "      <th>0</th>\n",
       "      <td>Basin</td>\n",
       "      <td>NaN</td>\n",
       "      <td>NaN</td>\n",
       "    </tr>\n",
       "    <tr>\n",
       "      <th>1</th>\n",
       "      <td>Ashokan</td>\n",
       "      <td>8106.5</td>\n",
       "      <td>53.2</td>\n",
       "    </tr>\n",
       "    <tr>\n",
       "      <th>2</th>\n",
       "      <td>Cannonsville</td>\n",
       "      <td>4712.7</td>\n",
       "      <td>56.2</td>\n",
       "    </tr>\n",
       "    <tr>\n",
       "      <th>3</th>\n",
       "      <td>Neversink</td>\n",
       "      <td>1492.8</td>\n",
       "      <td>18.6</td>\n",
       "    </tr>\n",
       "    <tr>\n",
       "      <th>4</th>\n",
       "      <td>Pepacton</td>\n",
       "      <td>5193.7</td>\n",
       "      <td>53.2</td>\n",
       "    </tr>\n",
       "  </tbody>\n",
       "</table>\n",
       "</div>"
      ],
      "text/plain": [
       "          Basin  Reservoir Acres  Reservoir Shoreline Miles\n",
       "0         Basin              NaN                        NaN\n",
       "1       Ashokan           8106.5                       53.2\n",
       "2  Cannonsville           4712.7                       56.2\n",
       "3     Neversink           1492.8                       18.6\n",
       "4      Pepacton           5193.7                       53.2"
      ]
     },
     "execution_count": 15,
     "metadata": {},
     "output_type": "execute_result"
    }
   ],
   "source": [
    "df_hydro.drop(['Basin Acres (land only)', 'Total Acres','Stream Miles','100 ft. Riparian Buffer*** Acres'], axis=1, inplace=True)\n",
    "df_hydro.head()"
   ]
  },
  {
   "cell_type": "markdown",
   "metadata": {},
   "source": [
    "## Table 2:\n",
    "\n",
    "The top few rows of the hydrostatistics dataset with all but two numerical columns removed"
   ]
  },
  {
   "cell_type": "code",
   "execution_count": 18,
   "metadata": {
    "collapsed": false
   },
   "outputs": [
    {
     "data": {
      "text/plain": [
       "<matplotlib.axes._subplots.AxesSubplot at 0x7f5ab8bb9c90>"
      ]
     },
     "execution_count": 18,
     "metadata": {},
     "output_type": "execute_result"
    },
    {
     "data": {
      "image/png": "[encoded data removed]",
      "text/plain": [
       "<matplotlib.figure.Figure at 0x7f5ab8e5e050>"
      ]
     },
     "metadata": {},
     "output_type": "display_data"
    }
   ],
   "source": [
    "df_hydro.plot.scatter(\"Reservoir Acres\",\"Reservoir Shoreline Miles\",title=\"Reservoir Acres and Shoreline\")"
   ]
  },
  {
   "cell_type": "markdown",
   "metadata": {},
   "source": [
    "## Figure 1:\n",
    "\n",
    "Plotting New York Reservoirs Acres Against Shoreline Miles"
   ]
  },
  {
   "cell_type": "code",
   "execution_count": null,
   "metadata": {
    "collapsed": true
   },
   "outputs": [],
   "source": []
  }
 ],
 "metadata": {
  "kernelspec": {
   "display_name": "PUI2016_Python2",
   "language": "python",
   "name": "pui2016_python2"
  },
  "language_info": {
   "codemirror_mode": {
    "name": "ipython",
    "version": 2
   },
   "file_extension": ".py",
   "mimetype": "text/x-python",
   "name": "python",
   "nbconvert_exporter": "python",
   "pygments_lexer": "ipython2",
   "version": "2.7.12"
  }
 },
 "nbformat": 4,
 "nbformat_minor": 0
}
